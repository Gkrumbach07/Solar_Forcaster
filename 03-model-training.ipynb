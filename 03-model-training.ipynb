{
 "cells": [
  {
   "cell_type": "markdown",
   "metadata": {},
   "source": [
    "# Model Training\n",
    "Model training can be a never ending step in machine learning, so knowing when to stop experimenting is inmportant. In this notebook we will look at how different models compare and how to finetune them. We will use a series of techniques to improve the accuracy of a model.\n",
    "\n",
    "First we will load in our cleaned data from the last notebook."
   ]
  },
  {
   "cell_type": "code",
   "execution_count": 2,
   "metadata": {},
   "outputs": [],
   "source": [
    "import numpy as np\n",
    "import pandas as pd\n",
    "\n",
    "df = pd.read_parquet(\"solar_cleaned.parquet\")"
   ]
  },
  {
   "cell_type": "markdown",
   "metadata": {},
   "source": [
    "## Split Data\n",
    "Now we will split the data into a testing set and a training set. Creating this test set is called hold-out validation and will be used as a sanity check for overfitting. Overfitting is when the model learns from the training set too well and preforms poorly on new data. There are other more in-depth validation techniques such as [cross-validation](https://en.wikipedia.org/wiki/Cross-validation_(statistics)), but we wont cover that in this demo."
   ]
  },
  {
   "cell_type": "code",
   "execution_count": 3,
   "metadata": {},
   "outputs": [
    {
     "name": "stdout",
     "output_type": "stream",
     "text": [
      "Training shape: (30251, 39)\n",
      "Testing shape: (12965, 39)\n"
     ]
    }
   ],
   "source": [
    "middle = int(len(df) * 0.7)\n",
    "\n",
    "train = df.loc[:middle].copy()\n",
    "test = df.loc[middle:]\n",
    "\n",
    "print(\"Training shape: \" + str(train.shape))\n",
    "print(\"Testing shape: \" + str(test.shape))"
   ]
  },
  {
   "cell_type": "markdown",
   "metadata": {},
   "source": [
    "We will also load in the feature engineering pipeline from the previous notebook. Recall that this pipeline converts the raw data into normalized data that the model can use. We use this to seperate the inputs and outputs (x and y) of our training and testing data."
   ]
  },
  {
   "cell_type": "code",
   "execution_count": 4,
   "metadata": {},
   "outputs": [],
   "source": [
    "import cloudpickle as cp\n",
    "feature_pipeline = cp.load(open('feature_pipeline.sav', 'rb'))\n",
    "\n",
    "X_train = feature_pipeline.fit_transform(train)\n",
    "y_train = train['dni_efficiency']\n",
    "\n",
    "X_test = feature_pipeline.fit_transform(test)\n",
    "y_test = test['dni_efficiency']"
   ]
  },
  {
   "cell_type": "markdown",
   "metadata": {},
   "source": [
    "## Training\n",
    "We will train two different regression models: random forrest and xgboost. I removed the DHI and GHI efficiency outputs from the training set sense they were giving over 100% efficiency scores. This would cause the model to start predicting wrong values if they were used. Because we are only predicting efficiency, not training all of our outputs will help the model avoid more errors in the data.\n",
    "\n",
    "### Random Forest\n",
    "First we use sklearn's [Random Forest Regressor](https://en.wikipedia.org/wiki/Random_forest) for our first model. Random forest models work by creating many [decision trees](https://en.wikipedia.org/wiki/Decision_tree) and aggregating the average prediction of the combined trees. Each tree will split, for a desired amount of iterations, based on a random feature. There are many more parameters that can be tuned but to start we will just use the default."
   ]
  },
  {
   "cell_type": "code",
   "execution_count": 4,
   "metadata": {},
   "outputs": [
    {
     "data": {
      "text/plain": [
       "RandomForestRegressor()"
      ]
     },
     "execution_count": 4,
     "metadata": {},
     "output_type": "execute_result"
    }
   ],
   "source": [
    "from sklearn.ensemble import RandomForestRegressor\n",
    "from sklearn import model_selection\n",
    "\n",
    "rfr = RandomForestRegressor()\n",
    "rfr.fit(X_train, y_train)"
   ]
  },
  {
   "cell_type": "markdown",
   "metadata": {},
   "source": [
    "### XGBoost\n",
    "In parallel, we will train a gradient boosted tree model called [XGBoost](https://en.wikipedia.org/wiki/XGBoost). These trees differ from random forest trees in that each tree builds off the last compared to aggregating each tree. We will train it on default parameters also."
   ]
  },
  {
   "cell_type": "code",
   "execution_count": 5,
   "metadata": {},
   "outputs": [
    {
     "data": {
      "text/plain": [
       "XGBRegressor(base_score=0.5, booster='gbtree', colsample_bylevel=1,\n",
       "             colsample_bynode=1, colsample_bytree=1, gamma=0, gpu_id=-1,\n",
       "             importance_type='gain', interaction_constraints='',\n",
       "             learning_rate=0.300000012, max_delta_step=0, max_depth=6,\n",
       "             min_child_weight=1, missing=nan, monotone_constraints='()',\n",
       "             n_estimators=100, n_jobs=0, num_parallel_tree=1, random_state=0,\n",
       "             reg_alpha=0, reg_lambda=1, scale_pos_weight=1, subsample=1,\n",
       "             tree_method='exact', validate_parameters=1, verbosity=None)"
      ]
     },
     "execution_count": 5,
     "metadata": {},
     "output_type": "execute_result"
    }
   ],
   "source": [
    "import xgboost as xgb\n",
    "\n",
    "xg_reg = xgb.XGBRegressor()\n",
    "xg_reg.fit(X_train,y_train)"
   ]
  },
  {
   "cell_type": "markdown",
   "metadata": {},
   "source": [
    "## Model Validation\n",
    "Now we need to test to see how the models are preforming on data they have not seen. There are a number of metrics we can use, but to start we can use [R^2](https://en.wikipedia.org/wiki/Coefficient_of_determination). We use this metric to find the proportion of variance in our model which can show how well a model can predicts real values. The closer the R^2 value is to one, the more accurate our model is. "
   ]
  },
  {
   "cell_type": "code",
   "execution_count": 6,
   "metadata": {},
   "outputs": [
    {
     "name": "stdout",
     "output_type": "stream",
     "text": [
      "R^2 Scores\n",
      "------------\n",
      "Random Forest: \t0.6672619645364346\n",
      "XGBoost: \t0.6498869458055927\n"
     ]
    }
   ],
   "source": [
    "from sklearn.metrics import r2_score, median_absolute_error\n",
    "\n",
    "predictions = rfr.predict(X_test)\n",
    "print(\"R^2 Scores\\n------------\\nRandom Forest: \\t\" + str(r2_score(y_test.values, predictions)))\n",
    "\n",
    "predictions = xg_reg.predict(X_test)\n",
    "print(\"XGBoost: \\t\" + str(r2_score(y_test.values, predictions)))"
   ]
  },
  {
   "cell_type": "markdown",
   "metadata": {},
   "source": [
    "Both scores are similer so we run another metric called the median absolute error. This metric is robust againts outliers which could help distingiush between the models. Smaller values equate to a better model preformance."
   ]
  },
  {
   "cell_type": "code",
   "execution_count": 7,
   "metadata": {},
   "outputs": [
    {
     "name": "stdout",
     "output_type": "stream",
     "text": [
      "Median Absolute Error\n",
      "------------------------\n",
      "Random Forest: \t0.11797783000410622\n",
      "XGBoost: \t0.10652916535771106\n"
     ]
    }
   ],
   "source": [
    "predictions = rfr.predict(X_test)\n",
    "print(\"Median Absolute Error\\n------------------------\\nRandom Forest: \\t\" +\n",
    "      str(median_absolute_error(y_test.values, predictions)))\n",
    "\n",
    "predictions = xg_reg.predict(X_test)\n",
    "print(\"XGBoost: \\t\" + str(median_absolute_error(y_test.values, predictions)))"
   ]
  },
  {
   "cell_type": "markdown",
   "metadata": {},
   "source": [
    "## Hyperparameter Tuning\n",
    "At the moment both models are preforming at an ok accuracy but it is not great. We can improve the models accuracy though a process called hyperparameter tuning. Here we will change the parameters for each model until a better accuracy is found. The method we will use to acomplish this is called random search. We will test a series of random parameters until we find the top preforming set.\n",
    "\n",
    "First we define a sampling distribution for each hyperparameter that we want to change.\n",
    "\n",
    "\n",
    "For the random forest model, we look at these main parameters: `n_estimators, max_depth, min_samples_split, min_samples_leaf, max_features`. Look at sklearns [documentation](https://scikit-learn.org/stable/modules/generated/sklearn.ensemble.RandomForestRegressor.html) on this model for what each parameter means.\n",
    "\n",
    "For the boosting model, we look at these main parameters: `n_estimators, max_depth, learning_rate, colsample_bynode, colsample_bytree, subsample`. Look at XGBoost's [documentation](https://xgboost.readthedocs.io/en/latest/python/python_api.html#module-xgboost.sklearn) on this model for what each parameter means."
   ]
  },
  {
   "cell_type": "code",
   "execution_count": 8,
   "metadata": {},
   "outputs": [],
   "source": [
    "from scipy.stats import randint as sp_randint\n",
    "from scipy.stats import uniform\n",
    "\n",
    "# both\n",
    "n_estimators = sp_randint(10, 1000)\n",
    "max_depth = sp_randint(1, 40)\n",
    "\n",
    "# rf\n",
    "min_samples_split = sp_randint(2, 5)\n",
    "min_samples_leaf = sp_randint(1, 5)\n",
    "max_features = sp_randint(1, 30)\n",
    "\n",
    "# boost\n",
    "learning_rate = uniform(loc=0, scale=0.05)\n",
    "colsample_bynode = uniform(loc=0, scale=1)\n",
    "colsample_bytree = uniform(loc=0, scale=1)\n",
    "subsample = uniform(loc=0, scale=1)"
   ]
  },
  {
   "cell_type": "markdown",
   "metadata": {},
   "source": [
    "Next we will create a function that will train each random model and output a Pandas DataFrame of its relevant values."
   ]
  },
  {
   "cell_type": "code",
   "execution_count": 9,
   "metadata": {},
   "outputs": [],
   "source": [
    "def record_model(model, model_type):\n",
    "    model.fit(X_train, y_train)\n",
    "    output = pd.DataFrame({\n",
    "        'model_type': model_type,\n",
    "        'model': [model],\n",
    "        'r2_score': r2_score(y_test.values, model.predict(X_test))\n",
    "    })\n",
    "    return output"
   ]
  },
  {
   "cell_type": "markdown",
   "metadata": {},
   "source": [
    "Finally we run though `itterations` amount of random tests."
   ]
  },
  {
   "cell_type": "code",
   "execution_count": 10,
   "metadata": {},
   "outputs": [],
   "source": [
    "itterations = 5\n",
    "\n",
    "models = pd.DataFrame(columns=['model_type', 'model', 'r2_score'])\n",
    "for i in range(itterations):\n",
    "    model = RandomForestRegressor(n_estimators=n_estimators.rvs(),\n",
    "                               max_depth=max_depth.rvs(),\n",
    "                               min_samples_split=min_samples_split.rvs(),\n",
    "                               min_samples_leaf=min_samples_leaf.rvs(),\n",
    "                               max_features=max_features.rvs())\n",
    "    models = models.append(record_model(model, 'random_forest'))\n",
    "    \n",
    "    model = xgb.XGBRegressor(n_estimators=n_estimators.rvs(),\n",
    "                             max_depth=max_depth.rvs(),\n",
    "                            learning_rate=learning_rate.rvs(),\n",
    "                            colsample_bynode=colsample_bynode.rvs(),\n",
    "                            colsample_bytree=colsample_bytree.rvs(),\n",
    "                            subsample=subsample.rvs())\n",
    "    models = models.append(record_model(model, 'boost'))"
   ]
  },
  {
   "cell_type": "markdown",
   "metadata": {},
   "source": [
    "We can repeat this process with smaller random ranges to further tune the model, but for the sake of this demo we will take the top models with the highest R^2 value for each model type.\n",
    "\n",
    "We plot the scores to see which sets of parameters preformed the best."
   ]
  },
  {
   "cell_type": "code",
   "execution_count": 30,
   "metadata": {},
   "outputs": [
    {
     "data": {
      "text/html": [
       "\n",
       "<div id=\"altair-viz-e33bb649ceb840e4852552af2449b264\"></div>\n",
       "<script type=\"text/javascript\">\n",
       "  (function(spec, embedOpt){\n",
       "    let outputDiv = document.currentScript.previousElementSibling;\n",
       "    if (outputDiv.id !== \"altair-viz-e33bb649ceb840e4852552af2449b264\") {\n",
       "      outputDiv = document.getElementById(\"altair-viz-e33bb649ceb840e4852552af2449b264\");\n",
       "    }\n",
       "    const paths = {\n",
       "      \"vega\": \"https://cdn.jsdelivr.net/npm//vega@5?noext\",\n",
       "      \"vega-lib\": \"https://cdn.jsdelivr.net/npm//vega-lib?noext\",\n",
       "      \"vega-lite\": \"https://cdn.jsdelivr.net/npm//vega-lite@4.8.1?noext\",\n",
       "      \"vega-embed\": \"https://cdn.jsdelivr.net/npm//vega-embed@6?noext\",\n",
       "    };\n",
       "\n",
       "    function loadScript(lib) {\n",
       "      return new Promise(function(resolve, reject) {\n",
       "        var s = document.createElement('script');\n",
       "        s.src = paths[lib];\n",
       "        s.async = true;\n",
       "        s.onload = () => resolve(paths[lib]);\n",
       "        s.onerror = () => reject(`Error loading script: ${paths[lib]}`);\n",
       "        document.getElementsByTagName(\"head\")[0].appendChild(s);\n",
       "      });\n",
       "    }\n",
       "\n",
       "    function showError(err) {\n",
       "      outputDiv.innerHTML = `<div class=\"error\" style=\"color:red;\">${err}</div>`;\n",
       "      throw err;\n",
       "    }\n",
       "\n",
       "    function displayChart(vegaEmbed) {\n",
       "      vegaEmbed(outputDiv, spec, embedOpt)\n",
       "        .catch(err => showError(`Javascript Error: ${err.message}<br>This usually means there's a typo in your chart specification. See the javascript console for the full traceback.`));\n",
       "    }\n",
       "\n",
       "    if(typeof define === \"function\" && define.amd) {\n",
       "      requirejs.config({paths});\n",
       "      require([\"vega-embed\"], displayChart, err => showError(`Error loading script: ${err.message}`));\n",
       "    } else if (typeof vegaEmbed === \"function\") {\n",
       "      displayChart(vegaEmbed);\n",
       "    } else {\n",
       "      loadScript(\"vega\")\n",
       "        .then(() => loadScript(\"vega-lite\"))\n",
       "        .then(() => loadScript(\"vega-embed\"))\n",
       "        .catch(showError)\n",
       "        .then(() => displayChart(vegaEmbed));\n",
       "    }\n",
       "  })({\"config\": {\"view\": {\"continuousWidth\": 400, \"continuousHeight\": 300}}, \"layer\": [{\"mark\": {\"type\": \"bar\", \"size\": 15}, \"encoding\": {\"color\": {\"type\": \"nominal\", \"field\": \"model_type\"}, \"x\": {\"type\": \"quantitative\", \"field\": \"index\", \"title\": \"Model\"}, \"y\": {\"type\": \"quantitative\", \"field\": \"r2_score\", \"scale\": {\"zero\": false}}}}, {\"mark\": {\"type\": \"text\", \"baseline\": \"top\", \"dy\": -15}, \"encoding\": {\"color\": {\"type\": \"nominal\", \"field\": \"model_type\"}, \"text\": {\"type\": \"quantitative\", \"field\": \"r2_score\", \"format\": \",.3r\"}, \"x\": {\"type\": \"quantitative\", \"field\": \"index\", \"title\": \"Model\"}, \"y\": {\"type\": \"quantitative\", \"field\": \"r2_score\", \"scale\": {\"zero\": false}}}}], \"data\": {\"name\": \"data-0b4032f902c134b44ba458c14e3eaf6d\"}, \"width\": 700, \"$schema\": \"https://vega.github.io/schema/vega-lite/v4.8.1.json\", \"datasets\": {\"data-0b4032f902c134b44ba458c14e3eaf6d\": [{\"model_type\": \"random_forest\", \"r2_score\": 0.697476591981927, \"index\": 0}, {\"model_type\": \"boost\", \"r2_score\": 0.6915302190648467, \"index\": 1}, {\"model_type\": \"random_forest\", \"r2_score\": 0.7021701703021397, \"index\": 2}, {\"model_type\": \"boost\", \"r2_score\": 0.6842765219385532, \"index\": 3}, {\"model_type\": \"random_forest\", \"r2_score\": 0.6983293017785075, \"index\": 4}, {\"model_type\": \"boost\", \"r2_score\": 0.6921129620757829, \"index\": 5}, {\"model_type\": \"random_forest\", \"r2_score\": 0.6891490645708036, \"index\": 6}, {\"model_type\": \"boost\", \"r2_score\": 0.6828898325638226, \"index\": 7}, {\"model_type\": \"random_forest\", \"r2_score\": 0.701859056020434, \"index\": 8}, {\"model_type\": \"boost\", \"r2_score\": 0.6486148838142015, \"index\": 9}]}}, {\"mode\": \"vega-lite\"});\n",
       "</script>"
      ],
      "text/plain": [
       "alt.LayerChart(...)"
      ]
     },
     "execution_count": 30,
     "metadata": {},
     "output_type": "execute_result"
    }
   ],
   "source": [
    "import altair as alt\n",
    "\n",
    "models_2 = models.reset_index(drop=True)\n",
    "models_2 = models_2.reset_index()\n",
    "\n",
    "base = alt.Chart(models_2[['model_type', 'r2_score', 'index']])\n",
    "\n",
    "bars = base.mark_bar(size=15).encode(\n",
    "x=alt.X('index:Q', title=\"Model\"),\n",
    "y= alt.Y('r2_score:Q', scale=alt.Scale(zero=False)),\n",
    "color='model_type:N')\n",
    "\n",
    "text = bars.mark_text(\n",
    "    baseline='top',\n",
    "    dy=-15\n",
    ").encode(\n",
    "    text=alt.Text('r2_score:Q', format=',.3r')\n",
    ")\n",
    "\n",
    "(bars + text).properties(width=700)"
   ]
  },
  {
   "cell_type": "markdown",
   "metadata": {},
   "source": [
    "Here we are extracting the best model for both model types and displaying the parameters that they used."
   ]
  },
  {
   "cell_type": "code",
   "execution_count": 12,
   "metadata": {},
   "outputs": [
    {
     "data": {
      "text/html": [
       "<div>\n",
       "<style scoped>\n",
       "    .dataframe tbody tr th:only-of-type {\n",
       "        vertical-align: middle;\n",
       "    }\n",
       "\n",
       "    .dataframe tbody tr th {\n",
       "        vertical-align: top;\n",
       "    }\n",
       "\n",
       "    .dataframe thead th {\n",
       "        text-align: right;\n",
       "    }\n",
       "</style>\n",
       "<table border=\"1\" class=\"dataframe\">\n",
       "  <thead>\n",
       "    <tr style=\"text-align: right;\">\n",
       "      <th></th>\n",
       "      <th>n_estimators</th>\n",
       "      <th>max_depth</th>\n",
       "      <th>min_samples_split</th>\n",
       "      <th>min_samples_leaf</th>\n",
       "      <th>max_features</th>\n",
       "    </tr>\n",
       "  </thead>\n",
       "  <tbody>\n",
       "    <tr>\n",
       "      <th>0</th>\n",
       "      <td>330</td>\n",
       "      <td>30</td>\n",
       "      <td>4</td>\n",
       "      <td>4</td>\n",
       "      <td>14</td>\n",
       "    </tr>\n",
       "  </tbody>\n",
       "</table>\n",
       "</div>"
      ],
      "text/plain": [
       "   n_estimators  max_depth  min_samples_split  min_samples_leaf  max_features\n",
       "0           330         30                  4                 4            14"
      ]
     },
     "execution_count": 12,
     "metadata": {},
     "output_type": "execute_result"
    }
   ],
   "source": [
    "# top random forest\n",
    "rfr = models[models['model_type']=='random_forest']\n",
    "rfr = rfr.iloc[rfr['r2_score'].values.argmax()].values[1]\n",
    "pd.DataFrame(rfr.get_params(), index=[0])[['n_estimators', 'max_depth',\n",
    "                                           'min_samples_split', 'min_samples_leaf',\n",
    "                                           'max_features']]"
   ]
  },
  {
   "cell_type": "code",
   "execution_count": 13,
   "metadata": {},
   "outputs": [
    {
     "data": {
      "text/html": [
       "<div>\n",
       "<style scoped>\n",
       "    .dataframe tbody tr th:only-of-type {\n",
       "        vertical-align: middle;\n",
       "    }\n",
       "\n",
       "    .dataframe tbody tr th {\n",
       "        vertical-align: top;\n",
       "    }\n",
       "\n",
       "    .dataframe thead th {\n",
       "        text-align: right;\n",
       "    }\n",
       "</style>\n",
       "<table border=\"1\" class=\"dataframe\">\n",
       "  <thead>\n",
       "    <tr style=\"text-align: right;\">\n",
       "      <th></th>\n",
       "      <th>n_estimators</th>\n",
       "      <th>max_depth</th>\n",
       "      <th>learning_rate</th>\n",
       "      <th>colsample_bynode</th>\n",
       "      <th>colsample_bytree</th>\n",
       "      <th>subsample</th>\n",
       "    </tr>\n",
       "  </thead>\n",
       "  <tbody>\n",
       "    <tr>\n",
       "      <th>0</th>\n",
       "      <td>698</td>\n",
       "      <td>35</td>\n",
       "      <td>0.012404</td>\n",
       "      <td>0.453981</td>\n",
       "      <td>0.656627</td>\n",
       "      <td>0.398283</td>\n",
       "    </tr>\n",
       "  </tbody>\n",
       "</table>\n",
       "</div>"
      ],
      "text/plain": [
       "   n_estimators  max_depth  learning_rate  colsample_bynode  colsample_bytree  \\\n",
       "0           698         35       0.012404          0.453981          0.656627   \n",
       "\n",
       "   subsample  \n",
       "0   0.398283  "
      ]
     },
     "execution_count": 13,
     "metadata": {},
     "output_type": "execute_result"
    }
   ],
   "source": [
    "# top boost\n",
    "xg_reg = models[models['model_type']=='boost']\n",
    "xg_reg = xg_reg.iloc[xg_reg['r2_score'].values.argmax()].values[1]\n",
    "\n",
    "# save this model for later export\n",
    "from copy import copy\n",
    "saved_model = copy(xg_reg)\n",
    "\n",
    "pd.DataFrame(xg_reg.get_params(), index=[0])[['n_estimators', 'max_depth',\n",
    "                                              'learning_rate', 'colsample_bynode',\n",
    "                                              'colsample_bytree', 'subsample']]"
   ]
  },
  {
   "cell_type": "markdown",
   "metadata": {},
   "source": [
    "## Feature Importances\n",
    "With hypertuning we were able to get about a 3 to 7 percent increase in accuracy. The model is still not preforming optimally, but we were able to rule out that the model was not the only issue. The issue might be attributed to the features we used to train. Initially we threw all the features at the model, but that may not be the best option. Luckily, an interesting option for tree models is that they provide feature importances. This allows us to see which features are influencing the model the most and which are doing nothing.\n",
    "\n",
    "We can grab the top five features from our random forest model and sort them from most influential to least influential."
   ]
  },
  {
   "cell_type": "code",
   "execution_count": 14,
   "metadata": {},
   "outputs": [
    {
     "data": {
      "text/plain": [
       "[(7, 0.342366095442328),\n",
       " (11, 0.2094587094100721),\n",
       " (10, 0.0792367473713822),\n",
       " (3, 0.07233279656502296),\n",
       " (2, 0.06678688684230703)]"
      ]
     },
     "execution_count": 14,
     "metadata": {},
     "output_type": "execute_result"
    }
   ],
   "source": [
    "l = list(enumerate(rfr.feature_importances_))\n",
    "l.sort(key=lambda x: -x[1])\n",
    "l[:5 ]"
   ]
  },
  {
   "cell_type": "markdown",
   "metadata": {},
   "source": [
    "To visulaize this better, we use altair to graph the importances with their respective column names. We find that they are similer in distribution and both rely on cloud data for the majority of the model."
   ]
  },
  {
   "cell_type": "code",
   "execution_count": 15,
   "metadata": {
    "scrolled": false
   },
   "outputs": [
    {
     "data": {
      "text/html": [
       "\n",
       "<div id=\"altair-viz-711e554705834df6a60adf019167d3b8\"></div>\n",
       "<script type=\"text/javascript\">\n",
       "  (function(spec, embedOpt){\n",
       "    let outputDiv = document.currentScript.previousElementSibling;\n",
       "    if (outputDiv.id !== \"altair-viz-711e554705834df6a60adf019167d3b8\") {\n",
       "      outputDiv = document.getElementById(\"altair-viz-711e554705834df6a60adf019167d3b8\");\n",
       "    }\n",
       "    const paths = {\n",
       "      \"vega\": \"https://cdn.jsdelivr.net/npm//vega@5?noext\",\n",
       "      \"vega-lib\": \"https://cdn.jsdelivr.net/npm//vega-lib?noext\",\n",
       "      \"vega-lite\": \"https://cdn.jsdelivr.net/npm//vega-lite@4.8.1?noext\",\n",
       "      \"vega-embed\": \"https://cdn.jsdelivr.net/npm//vega-embed@6?noext\",\n",
       "    };\n",
       "\n",
       "    function loadScript(lib) {\n",
       "      return new Promise(function(resolve, reject) {\n",
       "        var s = document.createElement('script');\n",
       "        s.src = paths[lib];\n",
       "        s.async = true;\n",
       "        s.onload = () => resolve(paths[lib]);\n",
       "        s.onerror = () => reject(`Error loading script: ${paths[lib]}`);\n",
       "        document.getElementsByTagName(\"head\")[0].appendChild(s);\n",
       "      });\n",
       "    }\n",
       "\n",
       "    function showError(err) {\n",
       "      outputDiv.innerHTML = `<div class=\"error\" style=\"color:red;\">${err}</div>`;\n",
       "      throw err;\n",
       "    }\n",
       "\n",
       "    function displayChart(vegaEmbed) {\n",
       "      vegaEmbed(outputDiv, spec, embedOpt)\n",
       "        .catch(err => showError(`Javascript Error: ${err.message}<br>This usually means there's a typo in your chart specification. See the javascript console for the full traceback.`));\n",
       "    }\n",
       "\n",
       "    if(typeof define === \"function\" && define.amd) {\n",
       "      requirejs.config({paths});\n",
       "      require([\"vega-embed\"], displayChart, err => showError(`Error loading script: ${err.message}`));\n",
       "    } else if (typeof vegaEmbed === \"function\") {\n",
       "      displayChart(vegaEmbed);\n",
       "    } else {\n",
       "      loadScript(\"vega\")\n",
       "        .then(() => loadScript(\"vega-lite\"))\n",
       "        .then(() => loadScript(\"vega-embed\"))\n",
       "        .catch(showError)\n",
       "        .then(() => displayChart(vegaEmbed));\n",
       "    }\n",
       "  })({\"config\": {\"view\": {\"continuousWidth\": 400, \"continuousHeight\": 300}}, \"hconcat\": [{\"layer\": [{\"mark\": \"bar\", \"encoding\": {\"x\": {\"type\": \"quantitative\", \"field\": \"Importance\"}, \"y\": {\"type\": \"nominal\", \"field\": \"Feature\"}}, \"height\": 500, \"title\": \"Random Forest\", \"width\": 275}, {\"mark\": {\"type\": \"text\", \"align\": \"left\", \"baseline\": \"middle\", \"dx\": 3}, \"encoding\": {\"text\": {\"type\": \"quantitative\", \"field\": \"Importance\", \"format\": \",.2r\"}, \"x\": {\"type\": \"quantitative\", \"field\": \"Importance\"}, \"y\": {\"type\": \"nominal\", \"field\": \"Feature\"}}, \"height\": 500, \"title\": \"Random Forest\", \"width\": 275}], \"data\": {\"name\": \"data-361565ad7d34834abca20467b0e7e813\"}}, {\"layer\": [{\"mark\": \"bar\", \"encoding\": {\"x\": {\"type\": \"quantitative\", \"field\": \"Importance\"}, \"y\": {\"type\": \"nominal\", \"field\": \"Feature\"}}, \"height\": 500, \"title\": \"XGBoost\", \"width\": 275}, {\"mark\": {\"type\": \"text\", \"align\": \"left\", \"baseline\": \"middle\", \"dx\": 3}, \"encoding\": {\"text\": {\"type\": \"quantitative\", \"field\": \"Importance\", \"format\": \",.2r\"}, \"x\": {\"type\": \"quantitative\", \"field\": \"Importance\"}, \"y\": {\"type\": \"nominal\", \"field\": \"Feature\"}}, \"height\": 500, \"title\": \"XGBoost\", \"width\": 275}], \"data\": {\"name\": \"data-4b922021205987a160d1a7bda72f4858\"}}], \"$schema\": \"https://vega.github.io/schema/vega-lite/v4.8.1.json\", \"datasets\": {\"data-361565ad7d34834abca20467b0e7e813\": [{\"Feature\": \"temperature\", \"Importance\": 0.03195235784374398}, {\"Feature\": \"dew_point\", \"Importance\": 0.026046130505861954}, {\"Feature\": \"relative_humidity\", \"Importance\": 0.06678688684230703}, {\"Feature\": \"daily_precipitation\", \"Importance\": 0.07233279656502296}, {\"Feature\": \"station_pressure\", \"Importance\": 0.03378344509007667}, {\"Feature\": \"wind_speed\", \"Importance\": 0.026329127585459484}, {\"Feature\": \"hourly_visibility\", \"Importance\": 0.01672006313882759}, {\"Feature\": \"cloud_cover\", \"Importance\": 0.342366095442328}, {\"Feature\": \"mostly_cloudy\", \"Importance\": 0.02957523208826203}, {\"Feature\": \"mostly_clear\", \"Importance\": 0.013689893684447944}, {\"Feature\": \"clear\", \"Importance\": 0.0792367473713822}, {\"Feature\": \"cloudy\", \"Importance\": 0.2094587094100721}, {\"Feature\": \"partly_cloudy\", \"Importance\": 0.008680720075038128}, {\"Feature\": \"overcast\", \"Importance\": 0.00031278873077171884}, {\"Feature\": \"rain_light\", \"Importance\": 0.025260175082057097}, {\"Feature\": \"tstorm\", \"Importance\": 0.010071033346272826}, {\"Feature\": \"drizzle\", \"Importance\": 0.0023616666220999376}, {\"Feature\": \"rain_heavy\", \"Importance\": 0.00010527996850821568}, {\"Feature\": \"rain\", \"Importance\": 0.0037969371734559764}, {\"Feature\": \"fog\", \"Importance\": 0.0010259043216379123}, {\"Feature\": \"snow_light\", \"Importance\": 8.680312344711088e-05}, {\"Feature\": \"snow\", \"Importance\": 1.4186619480749142e-05}, {\"Feature\": \"snow_heavy\", \"Importance\": 3.7218650128088895e-07}, {\"Feature\": \"freezing_rain\", \"Importance\": 6.528644871775785e-06}, {\"Feature\": \"freezing_drizzle\", \"Importance\": 1.1853806537743788e-07}, {\"Feature\": \"ice_pellets\", \"Importance\": 0.0}, {\"Feature\": \"ice_pellets_light\", \"Importance\": 0.0}, {\"Feature\": \"ice_pellets_heavy\", \"Importance\": 0.0}, {\"Feature\": \"flurries\", \"Importance\": 0.0}, {\"Feature\": \"freezing_rain_heavy\", \"Importance\": 0.0}, {\"Feature\": \"freezing_rain_light\", \"Importance\": 0.0}, {\"Feature\": \"fog_light\", \"Importance\": 0.0}], \"data-4b922021205987a160d1a7bda72f4858\": [{\"Feature\": \"temperature\", \"Importance\": 0.013848655857145786}, {\"Feature\": \"dew_point\", \"Importance\": 0.014869901351630688}, {\"Feature\": \"relative_humidity\", \"Importance\": 0.02611488662660122}, {\"Feature\": \"daily_precipitation\", \"Importance\": 0.07624834030866623}, {\"Feature\": \"station_pressure\", \"Importance\": 0.01854906789958477}, {\"Feature\": \"wind_speed\", \"Importance\": 0.017777949571609497}, {\"Feature\": \"hourly_visibility\", \"Importance\": 0.01863045059144497}, {\"Feature\": \"cloud_cover\", \"Importance\": 0.09225118160247803}, {\"Feature\": \"mostly_cloudy\", \"Importance\": 0.027910562232136726}, {\"Feature\": \"mostly_clear\", \"Importance\": 0.02641112171113491}, {\"Feature\": \"clear\", \"Importance\": 0.04423294588923454}, {\"Feature\": \"cloudy\", \"Importance\": 0.21854336559772491}, {\"Feature\": \"partly_cloudy\", \"Importance\": 0.02257385663688183}, {\"Feature\": \"overcast\", \"Importance\": 0.014603027142584324}, {\"Feature\": \"rain_light\", \"Importance\": 0.08980871737003326}, {\"Feature\": \"tstorm\", \"Importance\": 0.04481225460767746}, {\"Feature\": \"drizzle\", \"Importance\": 0.017930392175912857}, {\"Feature\": \"rain_heavy\", \"Importance\": 0.033477842807769775}, {\"Feature\": \"rain\", \"Importance\": 0.051000095903873444}, {\"Feature\": \"fog\", \"Importance\": 0.018885452300310135}, {\"Feature\": \"snow_light\", \"Importance\": 0.02710583060979843}, {\"Feature\": \"snow\", \"Importance\": 0.010974578559398651}, {\"Feature\": \"snow_heavy\", \"Importance\": 0.011389447376132011}, {\"Feature\": \"freezing_rain\", \"Importance\": 0.028539709746837616}, {\"Feature\": \"freezing_drizzle\", \"Importance\": 0.01317013893276453}, {\"Feature\": \"ice_pellets\", \"Importance\": 0.0}, {\"Feature\": \"ice_pellets_light\", \"Importance\": 0.0005182240274734795}, {\"Feature\": \"ice_pellets_heavy\", \"Importance\": 0.019821975380182266}, {\"Feature\": \"flurries\", \"Importance\": 0.0}, {\"Feature\": \"freezing_rain_heavy\", \"Importance\": 0.0}, {\"Feature\": \"freezing_rain_light\", \"Importance\": 0.0}, {\"Feature\": \"fog_light\", \"Importance\": 0.0}]}}, {\"mode\": \"vega-lite\"});\n",
       "</script>"
      ],
      "text/plain": [
       "alt.HConcatChart(...)"
      ]
     },
     "execution_count": 15,
     "metadata": {},
     "output_type": "execute_result"
    }
   ],
   "source": [
    "def plot_importance(tree_model, drop=[], title=\"Feature Importance\"):\n",
    "    drop.extend(['dni_efficiency', 'ghi_efficiency', 'dhi_efficiency',\n",
    "                 'STATION','DATE', 'latitude','longitude'])\n",
    "\n",
    "    source = pd.DataFrame({\n",
    "        'Feature': list(train.drop(columns=drop)),\n",
    "        'Importance': list(tree_model.feature_importances_)\n",
    "    })\n",
    "\n",
    "    bars = alt.Chart(source, height=500, width = 275, title=title).mark_bar().encode(\n",
    "        y='Feature:N',\n",
    "        x=\"Importance:Q\"\n",
    "    )\n",
    "\n",
    "    text = bars.mark_text(\n",
    "        align='left',\n",
    "        baseline='middle',\n",
    "        dx=3\n",
    "    ).encode(\n",
    "        text=alt.Text('Importance:Q', format=',.2r')\n",
    "    )\n",
    "\n",
    "    return (bars + text)\n",
    "    \n",
    "alt.hconcat(plot_importance(rfr, title=\"Random Forest\"), plot_importance(xg_reg, title=\"XGBoost\"))"
   ]
  },
  {
   "cell_type": "markdown",
   "metadata": {},
   "source": [
    "Next we will dive into changing around the features to see what changes effect the final accuracy. First we will remove one of the top preforming features, cloud_cover, and see what results it gives.\n",
    "\n",
    "Here we created a function that takes in the columns that the model will not use, train the model, and return a R^2 score and graph. We will use the parameters we found through hypertuning."
   ]
  },
  {
   "cell_type": "code",
   "execution_count": 16,
   "metadata": {},
   "outputs": [
    {
     "name": "stdout",
     "output_type": "stream",
     "text": [
      "Random Forest: \tR^2 Score: 0.7014673666727025\n",
      "XGBoost: \tR^2 Score: 0.6875927708624263\n"
     ]
    },
    {
     "data": {
      "text/html": [
       "\n",
       "<div id=\"altair-viz-b13242dfcf3147dd90e82cc7ccf14a5a\"></div>\n",
       "<script type=\"text/javascript\">\n",
       "  (function(spec, embedOpt){\n",
       "    let outputDiv = document.currentScript.previousElementSibling;\n",
       "    if (outputDiv.id !== \"altair-viz-b13242dfcf3147dd90e82cc7ccf14a5a\") {\n",
       "      outputDiv = document.getElementById(\"altair-viz-b13242dfcf3147dd90e82cc7ccf14a5a\");\n",
       "    }\n",
       "    const paths = {\n",
       "      \"vega\": \"https://cdn.jsdelivr.net/npm//vega@5?noext\",\n",
       "      \"vega-lib\": \"https://cdn.jsdelivr.net/npm//vega-lib?noext\",\n",
       "      \"vega-lite\": \"https://cdn.jsdelivr.net/npm//vega-lite@4.8.1?noext\",\n",
       "      \"vega-embed\": \"https://cdn.jsdelivr.net/npm//vega-embed@6?noext\",\n",
       "    };\n",
       "\n",
       "    function loadScript(lib) {\n",
       "      return new Promise(function(resolve, reject) {\n",
       "        var s = document.createElement('script');\n",
       "        s.src = paths[lib];\n",
       "        s.async = true;\n",
       "        s.onload = () => resolve(paths[lib]);\n",
       "        s.onerror = () => reject(`Error loading script: ${paths[lib]}`);\n",
       "        document.getElementsByTagName(\"head\")[0].appendChild(s);\n",
       "      });\n",
       "    }\n",
       "\n",
       "    function showError(err) {\n",
       "      outputDiv.innerHTML = `<div class=\"error\" style=\"color:red;\">${err}</div>`;\n",
       "      throw err;\n",
       "    }\n",
       "\n",
       "    function displayChart(vegaEmbed) {\n",
       "      vegaEmbed(outputDiv, spec, embedOpt)\n",
       "        .catch(err => showError(`Javascript Error: ${err.message}<br>This usually means there's a typo in your chart specification. See the javascript console for the full traceback.`));\n",
       "    }\n",
       "\n",
       "    if(typeof define === \"function\" && define.amd) {\n",
       "      requirejs.config({paths});\n",
       "      require([\"vega-embed\"], displayChart, err => showError(`Error loading script: ${err.message}`));\n",
       "    } else if (typeof vegaEmbed === \"function\") {\n",
       "      displayChart(vegaEmbed);\n",
       "    } else {\n",
       "      loadScript(\"vega\")\n",
       "        .then(() => loadScript(\"vega-lite\"))\n",
       "        .then(() => loadScript(\"vega-embed\"))\n",
       "        .catch(showError)\n",
       "        .then(() => displayChart(vegaEmbed));\n",
       "    }\n",
       "  })({\"config\": {\"view\": {\"continuousWidth\": 400, \"continuousHeight\": 300}}, \"hconcat\": [{\"layer\": [{\"mark\": \"bar\", \"encoding\": {\"x\": {\"type\": \"quantitative\", \"field\": \"Importance\"}, \"y\": {\"type\": \"nominal\", \"field\": \"Feature\"}}, \"height\": 500, \"title\": \"Random Forest\", \"width\": 275}, {\"mark\": {\"type\": \"text\", \"align\": \"left\", \"baseline\": \"middle\", \"dx\": 3}, \"encoding\": {\"text\": {\"type\": \"quantitative\", \"field\": \"Importance\", \"format\": \",.2r\"}, \"x\": {\"type\": \"quantitative\", \"field\": \"Importance\"}, \"y\": {\"type\": \"nominal\", \"field\": \"Feature\"}}, \"height\": 500, \"title\": \"Random Forest\", \"width\": 275}], \"data\": {\"name\": \"data-890bc671d9b1f3d47d07dbec82a82d7f\"}}, {\"layer\": [{\"mark\": \"bar\", \"encoding\": {\"x\": {\"type\": \"quantitative\", \"field\": \"Importance\"}, \"y\": {\"type\": \"nominal\", \"field\": \"Feature\"}}, \"height\": 500, \"title\": \"XGBoost\", \"width\": 275}, {\"mark\": {\"type\": \"text\", \"align\": \"left\", \"baseline\": \"middle\", \"dx\": 3}, \"encoding\": {\"text\": {\"type\": \"quantitative\", \"field\": \"Importance\", \"format\": \",.2r\"}, \"x\": {\"type\": \"quantitative\", \"field\": \"Importance\"}, \"y\": {\"type\": \"nominal\", \"field\": \"Feature\"}}, \"height\": 500, \"title\": \"XGBoost\", \"width\": 275}], \"data\": {\"name\": \"data-8fb252d41e43459cfc26f091eb5fd6bc\"}}], \"$schema\": \"https://vega.github.io/schema/vega-lite/v4.8.1.json\", \"datasets\": {\"data-890bc671d9b1f3d47d07dbec82a82d7f\": [{\"Feature\": \"temperature\", \"Importance\": 0.03580793856534775}, {\"Feature\": \"dew_point\", \"Importance\": 0.02775548271063053}, {\"Feature\": \"relative_humidity\", \"Importance\": 0.08940779469884821}, {\"Feature\": \"daily_precipitation\", \"Importance\": 0.10844226839244356}, {\"Feature\": \"station_pressure\", \"Importance\": 0.035383181898641224}, {\"Feature\": \"wind_speed\", \"Importance\": 0.027748981164467112}, {\"Feature\": \"hourly_visibility\", \"Importance\": 0.020865839582192004}, {\"Feature\": \"mostly_cloudy\", \"Importance\": 0.04752106886371812}, {\"Feature\": \"mostly_clear\", \"Importance\": 0.024977009947566513}, {\"Feature\": \"clear\", \"Importance\": 0.1398696814180506}, {\"Feature\": \"cloudy\", \"Importance\": 0.38166511463268143}, {\"Feature\": \"partly_cloudy\", \"Importance\": 0.014550202635463581}, {\"Feature\": \"overcast\", \"Importance\": 0.0002205191765126968}, {\"Feature\": \"rain_light\", \"Importance\": 0.02780857546460478}, {\"Feature\": \"tstorm\", \"Importance\": 0.009249840268657293}, {\"Feature\": \"drizzle\", \"Importance\": 0.0025243783642756173}, {\"Feature\": \"rain_heavy\", \"Importance\": 0.00010410105268362016}, {\"Feature\": \"rain\", \"Importance\": 0.0049165855162488755}, {\"Feature\": \"fog\", \"Importance\": 0.0010512047155464427}, {\"Feature\": \"snow_light\", \"Importance\": 0.00011060058798776943}, {\"Feature\": \"snow\", \"Importance\": 1.0791925805772508e-05}, {\"Feature\": \"snow_heavy\", \"Importance\": 2.3289891965959834e-08}, {\"Feature\": \"freezing_rain\", \"Importance\": 8.815127734497656e-06}, {\"Feature\": \"freezing_drizzle\", \"Importance\": 0.0}, {\"Feature\": \"ice_pellets\", \"Importance\": 0.0}, {\"Feature\": \"ice_pellets_light\", \"Importance\": 0.0}, {\"Feature\": \"ice_pellets_heavy\", \"Importance\": 0.0}, {\"Feature\": \"flurries\", \"Importance\": 0.0}, {\"Feature\": \"freezing_rain_heavy\", \"Importance\": 0.0}, {\"Feature\": \"freezing_rain_light\", \"Importance\": 0.0}, {\"Feature\": \"fog_light\", \"Importance\": 0.0}], \"data-8fb252d41e43459cfc26f091eb5fd6bc\": [{\"Feature\": \"temperature\", \"Importance\": 0.014830547384917736}, {\"Feature\": \"dew_point\", \"Importance\": 0.01531138177961111}, {\"Feature\": \"relative_humidity\", \"Importance\": 0.02897944301366806}, {\"Feature\": \"daily_precipitation\", \"Importance\": 0.07927873730659485}, {\"Feature\": \"station_pressure\", \"Importance\": 0.017941107973456383}, {\"Feature\": \"wind_speed\", \"Importance\": 0.016819927841424942}, {\"Feature\": \"hourly_visibility\", \"Importance\": 0.021658089011907578}, {\"Feature\": \"mostly_cloudy\", \"Importance\": 0.03142610192298889}, {\"Feature\": \"mostly_clear\", \"Importance\": 0.03295912593603134}, {\"Feature\": \"clear\", \"Importance\": 0.06257429718971252}, {\"Feature\": \"cloudy\", \"Importance\": 0.2377464473247528}, {\"Feature\": \"partly_cloudy\", \"Importance\": 0.026165127754211426}, {\"Feature\": \"overcast\", \"Importance\": 0.013500463217496872}, {\"Feature\": \"rain_light\", \"Importance\": 0.09901170432567596}, {\"Feature\": \"tstorm\", \"Importance\": 0.04499765858054161}, {\"Feature\": \"drizzle\", \"Importance\": 0.016018543392419815}, {\"Feature\": \"rain_heavy\", \"Importance\": 0.024262795224785805}, {\"Feature\": \"rain\", \"Importance\": 0.06507571786642075}, {\"Feature\": \"fog\", \"Importance\": 0.017696665599942207}, {\"Feature\": \"snow_light\", \"Importance\": 0.025266427546739578}, {\"Feature\": \"snow\", \"Importance\": 0.015183873474597931}, {\"Feature\": \"snow_heavy\", \"Importance\": 0.015480558387935162}, {\"Feature\": \"freezing_rain\", \"Importance\": 0.02867734804749489}, {\"Feature\": \"freezing_drizzle\", \"Importance\": 0.020189497619867325}, {\"Feature\": \"ice_pellets\", \"Importance\": 0.0}, {\"Feature\": \"ice_pellets_light\", \"Importance\": 0.00035758555168285966}, {\"Feature\": \"ice_pellets_heavy\", \"Importance\": 0.028590893372893333}, {\"Feature\": \"flurries\", \"Importance\": 0.0}, {\"Feature\": \"freezing_rain_heavy\", \"Importance\": 0.0}, {\"Feature\": \"freezing_rain_light\", \"Importance\": 0.0}, {\"Feature\": \"fog_light\", \"Importance\": 0.0}]}}, {\"mode\": \"vega-lite\"});\n",
       "</script>"
      ],
      "text/plain": [
       "alt.HConcatChart(...)"
      ]
     },
     "execution_count": 16,
     "metadata": {},
     "output_type": "execute_result"
    }
   ],
   "source": [
    "def train_plot_model(model, title, cols):    \n",
    "    #get col list\n",
    "    dropped_train = train.drop(columns=['dni_efficiency', 'ghi_efficiency', 'dhi_efficiency', 'STATION','DATE',\n",
    "                                            'latitude','longitude'])\n",
    "    drop = [dropped_train.columns.get_loc(col) for col in cols]\n",
    "    \n",
    "    # remove cols from transformed data\n",
    "    svecs = np.delete(X_train, drop, axis=1)\n",
    "\n",
    "    model.fit(svecs, y_train)\n",
    "    \n",
    "    predictions = model.predict(np.delete(X_test, drop,axis=1))\n",
    "    print(title + \": \\tR^2 Score: \" + str(r2_score(y_test.values, predictions)))\n",
    "    \n",
    "    return plot_importance(model, cols.copy(), title=title)\n",
    "    \n",
    "dropped_columns = ['cloud_cover']\n",
    "alt.hconcat(train_plot_model(rfr, 'Random Forest', dropped_columns),\n",
    "           train_plot_model(xg_reg, 'XGBoost', dropped_columns))"
   ]
  },
  {
   "cell_type": "markdown",
   "metadata": {},
   "source": [
    "With cloud_cover removed, we are able to see that not much changed in the model. Both models are preforming at the same accuracy and are roughly the same as the preformance prior with cloud_cover included. From this we can conclude that cloud_cover was highly correlated with a combintion of the other columns.\n",
    "\n",
    "Let's do the opposite of what we tested and remove all the cloud observation features."
   ]
  },
  {
   "cell_type": "code",
   "execution_count": 17,
   "metadata": {},
   "outputs": [
    {
     "name": "stdout",
     "output_type": "stream",
     "text": [
      "Random Forest: \tR^2 Score: 0.6808659016281007\n",
      "XGBoost: \tR^2 Score: 0.6594840294166954\n"
     ]
    },
    {
     "data": {
      "text/html": [
       "\n",
       "<div id=\"altair-viz-ce822bc6fca74229820254715e16cb4a\"></div>\n",
       "<script type=\"text/javascript\">\n",
       "  (function(spec, embedOpt){\n",
       "    let outputDiv = document.currentScript.previousElementSibling;\n",
       "    if (outputDiv.id !== \"altair-viz-ce822bc6fca74229820254715e16cb4a\") {\n",
       "      outputDiv = document.getElementById(\"altair-viz-ce822bc6fca74229820254715e16cb4a\");\n",
       "    }\n",
       "    const paths = {\n",
       "      \"vega\": \"https://cdn.jsdelivr.net/npm//vega@5?noext\",\n",
       "      \"vega-lib\": \"https://cdn.jsdelivr.net/npm//vega-lib?noext\",\n",
       "      \"vega-lite\": \"https://cdn.jsdelivr.net/npm//vega-lite@4.8.1?noext\",\n",
       "      \"vega-embed\": \"https://cdn.jsdelivr.net/npm//vega-embed@6?noext\",\n",
       "    };\n",
       "\n",
       "    function loadScript(lib) {\n",
       "      return new Promise(function(resolve, reject) {\n",
       "        var s = document.createElement('script');\n",
       "        s.src = paths[lib];\n",
       "        s.async = true;\n",
       "        s.onload = () => resolve(paths[lib]);\n",
       "        s.onerror = () => reject(`Error loading script: ${paths[lib]}`);\n",
       "        document.getElementsByTagName(\"head\")[0].appendChild(s);\n",
       "      });\n",
       "    }\n",
       "\n",
       "    function showError(err) {\n",
       "      outputDiv.innerHTML = `<div class=\"error\" style=\"color:red;\">${err}</div>`;\n",
       "      throw err;\n",
       "    }\n",
       "\n",
       "    function displayChart(vegaEmbed) {\n",
       "      vegaEmbed(outputDiv, spec, embedOpt)\n",
       "        .catch(err => showError(`Javascript Error: ${err.message}<br>This usually means there's a typo in your chart specification. See the javascript console for the full traceback.`));\n",
       "    }\n",
       "\n",
       "    if(typeof define === \"function\" && define.amd) {\n",
       "      requirejs.config({paths});\n",
       "      require([\"vega-embed\"], displayChart, err => showError(`Error loading script: ${err.message}`));\n",
       "    } else if (typeof vegaEmbed === \"function\") {\n",
       "      displayChart(vegaEmbed);\n",
       "    } else {\n",
       "      loadScript(\"vega\")\n",
       "        .then(() => loadScript(\"vega-lite\"))\n",
       "        .then(() => loadScript(\"vega-embed\"))\n",
       "        .catch(showError)\n",
       "        .then(() => displayChart(vegaEmbed));\n",
       "    }\n",
       "  })({\"config\": {\"view\": {\"continuousWidth\": 400, \"continuousHeight\": 300}}, \"hconcat\": [{\"layer\": [{\"mark\": \"bar\", \"encoding\": {\"x\": {\"type\": \"quantitative\", \"field\": \"Importance\"}, \"y\": {\"type\": \"nominal\", \"field\": \"Feature\"}}, \"height\": 500, \"title\": \"Random Forest\", \"width\": 275}, {\"mark\": {\"type\": \"text\", \"align\": \"left\", \"baseline\": \"middle\", \"dx\": 3}, \"encoding\": {\"text\": {\"type\": \"quantitative\", \"field\": \"Importance\", \"format\": \",.2r\"}, \"x\": {\"type\": \"quantitative\", \"field\": \"Importance\"}, \"y\": {\"type\": \"nominal\", \"field\": \"Feature\"}}, \"height\": 500, \"title\": \"Random Forest\", \"width\": 275}], \"data\": {\"name\": \"data-3eedb302b4234a2f5eb05cf3601df433\"}}, {\"layer\": [{\"mark\": \"bar\", \"encoding\": {\"x\": {\"type\": \"quantitative\", \"field\": \"Importance\"}, \"y\": {\"type\": \"nominal\", \"field\": \"Feature\"}}, \"height\": 500, \"title\": \"XGBoost\", \"width\": 275}, {\"mark\": {\"type\": \"text\", \"align\": \"left\", \"baseline\": \"middle\", \"dx\": 3}, \"encoding\": {\"text\": {\"type\": \"quantitative\", \"field\": \"Importance\", \"format\": \",.2r\"}, \"x\": {\"type\": \"quantitative\", \"field\": \"Importance\"}, \"y\": {\"type\": \"nominal\", \"field\": \"Feature\"}}, \"height\": 500, \"title\": \"XGBoost\", \"width\": 275}], \"data\": {\"name\": \"data-96c133bc0771bd163fbab8a3318c0edf\"}}], \"$schema\": \"https://vega.github.io/schema/vega-lite/v4.8.1.json\", \"datasets\": {\"data-3eedb302b4234a2f5eb05cf3601df433\": [{\"Feature\": \"temperature\", \"Importance\": 0.0422765383158664}, {\"Feature\": \"dew_point\", \"Importance\": 0.030885791594786775}, {\"Feature\": \"relative_humidity\", \"Importance\": 0.12201457297820217}, {\"Feature\": \"daily_precipitation\", \"Importance\": 0.1583656164945207}, {\"Feature\": \"station_pressure\", \"Importance\": 0.045961660349689515}, {\"Feature\": \"wind_speed\", \"Importance\": 0.03169049216977991}, {\"Feature\": \"hourly_visibility\", \"Importance\": 0.023427781589838402}, {\"Feature\": \"cloud_cover\", \"Importance\": 0.4922357116037703}, {\"Feature\": \"rain_light\", \"Importance\": 0.030690673715210896}, {\"Feature\": \"tstorm\", \"Importance\": 0.012164651674342353}, {\"Feature\": \"drizzle\", \"Importance\": 0.0029244799493056794}, {\"Feature\": \"rain_heavy\", \"Importance\": 0.00011925866422101261}, {\"Feature\": \"rain\", \"Importance\": 0.005833406590578681}, {\"Feature\": \"fog\", \"Importance\": 0.0012286789771975607}, {\"Feature\": \"snow_light\", \"Importance\": 0.0001536064613069937}, {\"Feature\": \"snow\", \"Importance\": 1.6054658888940308e-05}, {\"Feature\": \"snow_heavy\", \"Importance\": 6.837460202216973e-07}, {\"Feature\": \"freezing_rain\", \"Importance\": 1.0340466473572662e-05}, {\"Feature\": \"freezing_drizzle\", \"Importance\": 0.0}, {\"Feature\": \"ice_pellets\", \"Importance\": 0.0}, {\"Feature\": \"ice_pellets_light\", \"Importance\": 0.0}, {\"Feature\": \"ice_pellets_heavy\", \"Importance\": 0.0}, {\"Feature\": \"flurries\", \"Importance\": 0.0}, {\"Feature\": \"freezing_rain_heavy\", \"Importance\": 0.0}, {\"Feature\": \"freezing_rain_light\", \"Importance\": 0.0}, {\"Feature\": \"fog_light\", \"Importance\": 0.0}], \"data-96c133bc0771bd163fbab8a3318c0edf\": [{\"Feature\": \"temperature\", \"Importance\": 0.027851855382323265}, {\"Feature\": \"dew_point\", \"Importance\": 0.02573137730360031}, {\"Feature\": \"relative_humidity\", \"Importance\": 0.047011636197566986}, {\"Feature\": \"daily_precipitation\", \"Importance\": 0.1269827038049698}, {\"Feature\": \"station_pressure\", \"Importance\": 0.03126510977745056}, {\"Feature\": \"wind_speed\", \"Importance\": 0.02879023365676403}, {\"Feature\": \"hourly_visibility\", \"Importance\": 0.04474630206823349}, {\"Feature\": \"cloud_cover\", \"Importance\": 0.1778722107410431}, {\"Feature\": \"rain_light\", \"Importance\": 0.13799333572387695}, {\"Feature\": \"tstorm\", \"Importance\": 0.0531291626393795}, {\"Feature\": \"drizzle\", \"Importance\": 0.033101413398981094}, {\"Feature\": \"rain_heavy\", \"Importance\": 0.02602478116750717}, {\"Feature\": \"rain\", \"Importance\": 0.07723844796419144}, {\"Feature\": \"fog\", \"Importance\": 0.026313545182347298}, {\"Feature\": \"snow_light\", \"Importance\": 0.03703660890460014}, {\"Feature\": \"snow\", \"Importance\": 0.012322057038545609}, {\"Feature\": \"snow_heavy\", \"Importance\": 0.012233447283506393}, {\"Feature\": \"freezing_rain\", \"Importance\": 0.03300103917717934}, {\"Feature\": \"freezing_drizzle\", \"Importance\": 0.02568451315164566}, {\"Feature\": \"ice_pellets\", \"Importance\": 0.0}, {\"Feature\": \"ice_pellets_light\", \"Importance\": 0.00024919776478782296}, {\"Feature\": \"ice_pellets_heavy\", \"Importance\": 0.015421043150126934}, {\"Feature\": \"flurries\", \"Importance\": 0.0}, {\"Feature\": \"freezing_rain_heavy\", \"Importance\": 0.0}, {\"Feature\": \"freezing_rain_light\", \"Importance\": 0.0}, {\"Feature\": \"fog_light\", \"Importance\": 0.0}]}}, {\"mode\": \"vega-lite\"});\n",
       "</script>"
      ],
      "text/plain": [
       "alt.HConcatChart(...)"
      ]
     },
     "execution_count": 17,
     "metadata": {},
     "output_type": "execute_result"
    }
   ],
   "source": [
    "dropped_columns = ['overcast', 'cloudy', 'mostly_cloudy',\n",
    "                   'partly_cloudy', 'mostly_clear', 'clear']\n",
    "alt.hconcat(train_plot_model(rfr, 'Random Forest', dropped_columns),\n",
    "          train_plot_model(xg_reg, 'XGBoost', dropped_columns))"
   ]
  },
  {
   "cell_type": "markdown",
   "metadata": {},
   "source": [
    "The model with the cloud_cover feature preformed slightly worse than the cloud observations feature model, so it is safe to say that we can drop cloud_cover as a feature in favor of a better preforming set of features. On the other hand, having a less complex (less features) model could be favorable in some situations as long as the accuracy is not reduced too much. In our case we will opt for the more accurate set of features.\n",
    "\n",
    "Finally we can try trimming the feature set by removing features that have less than a .02% impact. This will give us the same advantage of having a less complex model but hopefully with less of a drop in accuracy."
   ]
  },
  {
   "cell_type": "code",
   "execution_count": 18,
   "metadata": {},
   "outputs": [
    {
     "name": "stdout",
     "output_type": "stream",
     "text": [
      "Random Forest: \tR^2 Score: 0.6919628426455238\n",
      "XGBoost: \tR^2 Score: 0.6852947513908778\n"
     ]
    },
    {
     "data": {
      "text/html": [
       "\n",
       "<div id=\"altair-viz-9fba438696884479827ebf98fc2481ea\"></div>\n",
       "<script type=\"text/javascript\">\n",
       "  (function(spec, embedOpt){\n",
       "    let outputDiv = document.currentScript.previousElementSibling;\n",
       "    if (outputDiv.id !== \"altair-viz-9fba438696884479827ebf98fc2481ea\") {\n",
       "      outputDiv = document.getElementById(\"altair-viz-9fba438696884479827ebf98fc2481ea\");\n",
       "    }\n",
       "    const paths = {\n",
       "      \"vega\": \"https://cdn.jsdelivr.net/npm//vega@5?noext\",\n",
       "      \"vega-lib\": \"https://cdn.jsdelivr.net/npm//vega-lib?noext\",\n",
       "      \"vega-lite\": \"https://cdn.jsdelivr.net/npm//vega-lite@4.8.1?noext\",\n",
       "      \"vega-embed\": \"https://cdn.jsdelivr.net/npm//vega-embed@6?noext\",\n",
       "    };\n",
       "\n",
       "    function loadScript(lib) {\n",
       "      return new Promise(function(resolve, reject) {\n",
       "        var s = document.createElement('script');\n",
       "        s.src = paths[lib];\n",
       "        s.async = true;\n",
       "        s.onload = () => resolve(paths[lib]);\n",
       "        s.onerror = () => reject(`Error loading script: ${paths[lib]}`);\n",
       "        document.getElementsByTagName(\"head\")[0].appendChild(s);\n",
       "      });\n",
       "    }\n",
       "\n",
       "    function showError(err) {\n",
       "      outputDiv.innerHTML = `<div class=\"error\" style=\"color:red;\">${err}</div>`;\n",
       "      throw err;\n",
       "    }\n",
       "\n",
       "    function displayChart(vegaEmbed) {\n",
       "      vegaEmbed(outputDiv, spec, embedOpt)\n",
       "        .catch(err => showError(`Javascript Error: ${err.message}<br>This usually means there's a typo in your chart specification. See the javascript console for the full traceback.`));\n",
       "    }\n",
       "\n",
       "    if(typeof define === \"function\" && define.amd) {\n",
       "      requirejs.config({paths});\n",
       "      require([\"vega-embed\"], displayChart, err => showError(`Error loading script: ${err.message}`));\n",
       "    } else if (typeof vegaEmbed === \"function\") {\n",
       "      displayChart(vegaEmbed);\n",
       "    } else {\n",
       "      loadScript(\"vega\")\n",
       "        .then(() => loadScript(\"vega-lite\"))\n",
       "        .then(() => loadScript(\"vega-embed\"))\n",
       "        .catch(showError)\n",
       "        .then(() => displayChart(vegaEmbed));\n",
       "    }\n",
       "  })({\"config\": {\"view\": {\"continuousWidth\": 400, \"continuousHeight\": 300}}, \"hconcat\": [{\"layer\": [{\"mark\": \"bar\", \"encoding\": {\"x\": {\"type\": \"quantitative\", \"field\": \"Importance\"}, \"y\": {\"type\": \"nominal\", \"field\": \"Feature\"}}, \"height\": 500, \"title\": \"Random Forest\", \"width\": 275}, {\"mark\": {\"type\": \"text\", \"align\": \"left\", \"baseline\": \"middle\", \"dx\": 3}, \"encoding\": {\"text\": {\"type\": \"quantitative\", \"field\": \"Importance\", \"format\": \",.2r\"}, \"x\": {\"type\": \"quantitative\", \"field\": \"Importance\"}, \"y\": {\"type\": \"nominal\", \"field\": \"Feature\"}}, \"height\": 500, \"title\": \"Random Forest\", \"width\": 275}], \"data\": {\"name\": \"data-142b4c45c0025e8a4827a400daf14cd2\"}}, {\"layer\": [{\"mark\": \"bar\", \"encoding\": {\"x\": {\"type\": \"quantitative\", \"field\": \"Importance\"}, \"y\": {\"type\": \"nominal\", \"field\": \"Feature\"}}, \"height\": 500, \"title\": \"XGBoost\", \"width\": 275}, {\"mark\": {\"type\": \"text\", \"align\": \"left\", \"baseline\": \"middle\", \"dx\": 3}, \"encoding\": {\"text\": {\"type\": \"quantitative\", \"field\": \"Importance\", \"format\": \",.2r\"}, \"x\": {\"type\": \"quantitative\", \"field\": \"Importance\"}, \"y\": {\"type\": \"nominal\", \"field\": \"Feature\"}}, \"height\": 500, \"title\": \"XGBoost\", \"width\": 275}], \"data\": {\"name\": \"data-c1eaba304bd0f11361e9b6c51eaef254\"}}], \"$schema\": \"https://vega.github.io/schema/vega-lite/v4.8.1.json\", \"datasets\": {\"data-142b4c45c0025e8a4827a400daf14cd2\": [{\"Feature\": \"temperature\", \"Importance\": 0.04841588262781117}, {\"Feature\": \"dew_point\", \"Importance\": 0.03698036583746811}, {\"Feature\": \"relative_humidity\", \"Importance\": 0.06601930132038389}, {\"Feature\": \"daily_precipitation\", \"Importance\": 0.0640844688449185}, {\"Feature\": \"hourly_visibility\", \"Importance\": 0.022302984152627377}, {\"Feature\": \"mostly_cloudy\", \"Importance\": 0.06919901339485655}, {\"Feature\": \"mostly_clear\", \"Importance\": 0.013074267559032529}, {\"Feature\": \"clear\", \"Importance\": 0.060855943451895676}, {\"Feature\": \"cloudy\", \"Importance\": 0.5834134562752475}, {\"Feature\": \"partly_cloudy\", \"Importance\": 0.010829512638072917}, {\"Feature\": \"rain_light\", \"Importance\": 0.010556228264227228}, {\"Feature\": \"tstorm\", \"Importance\": 0.00856303308149544}, {\"Feature\": \"drizzle\", \"Importance\": 0.003026078128848002}, {\"Feature\": \"rain_heavy\", \"Importance\": 0.00011406517464787433}, {\"Feature\": \"rain\", \"Importance\": 0.0024561711650768134}, {\"Feature\": \"snow_light\", \"Importance\": 0.00010922808339046512}], \"data-c1eaba304bd0f11361e9b6c51eaef254\": [{\"Feature\": \"temperature\", \"Importance\": 0.02881806343793869}, {\"Feature\": \"dew_point\", \"Importance\": 0.029512830078601837}, {\"Feature\": \"relative_humidity\", \"Importance\": 0.04836530610918999}, {\"Feature\": \"daily_precipitation\", \"Importance\": 0.09456395357847214}, {\"Feature\": \"hourly_visibility\", \"Importance\": 0.03187544643878937}, {\"Feature\": \"mostly_cloudy\", \"Importance\": 0.042320616543293}, {\"Feature\": \"mostly_clear\", \"Importance\": 0.041714977473020554}, {\"Feature\": \"clear\", \"Importance\": 0.09199703484773636}, {\"Feature\": \"cloudy\", \"Importance\": 0.2387598305940628}, {\"Feature\": \"partly_cloudy\", \"Importance\": 0.03523344546556473}, {\"Feature\": \"rain_light\", \"Importance\": 0.10374796390533447}, {\"Feature\": \"tstorm\", \"Importance\": 0.050691261887550354}, {\"Feature\": \"drizzle\", \"Importance\": 0.02696053497493267}, {\"Feature\": \"rain_heavy\", \"Importance\": 0.02052120678126812}, {\"Feature\": \"rain\", \"Importance\": 0.08259103447198868}, {\"Feature\": \"snow_light\", \"Importance\": 0.032326459884643555}]}}, {\"mode\": \"vega-lite\"});\n",
       "</script>"
      ],
      "text/plain": [
       "alt.HConcatChart(...)"
      ]
     },
     "execution_count": 18,
     "metadata": {},
     "output_type": "execute_result"
    }
   ],
   "source": [
    "dropped_columns = ['station_pressure',\n",
    "       'wind_speed', 'cloud_cover', 'overcast', 'fog', 'snow',\n",
    "       'snow_heavy', 'freezing_rain', 'freezing_drizzle', 'ice_pellets',\n",
    "       'ice_pellets_light', 'ice_pellets_heavy', 'flurries',\n",
    "       'freezing_rain_heavy', 'freezing_rain_light', 'fog_light']\n",
    "alt.hconcat(train_plot_model(rfr, 'Random Forest', dropped_columns),\n",
    "          train_plot_model(xg_reg, 'XGBoost', dropped_columns))"
   ]
  },
  {
   "cell_type": "markdown",
   "metadata": {},
   "source": [
    "In this test, there was an accuracy drop but that is expected when a good number of features are lost. We could continue to fine tune the features we use along with more hyperparameter tuning as well. But from the tests we have done, it looks like there is not much we can do to substantially increase the model's accuracy.\n",
    "\n",
    "From here we save the original boosting model so that we can use it outside of this notebook. Becouse of the random hypertuning we did, each iteration of this notebook will return a different model that will preform slightly differently. In the next notebook we will look at where the error in this model is coming from, and how to use that information to increase our model's accuracy."
   ]
  },
  {
   "cell_type": "code",
   "execution_count": 19,
   "metadata": {},
   "outputs": [],
   "source": [
    "import cloudpickle as cp\n",
    "import os\n",
    "def serialize_to(obj, default_filename):\n",
    "    filename = os.getenv(\"S2I_PIPELINE_STAGE_SAVE_FILE\", default_filename)\n",
    "    if filename != default_filename:\n",
    "        cp.dump(obj, open(default_filename, \"wb\"))\n",
    "    cp.dump(obj, open(filename, \"wb\"))\n",
    "\n",
    "serialize_to(saved_model, \"trained_model.sav\")"
   ]
  }
 ],
 "metadata": {
  "kernelspec": {
   "display_name": "Python 3",
   "language": "python",
   "name": "python3"
  },
  "language_info": {
   "codemirror_mode": {
    "name": "ipython",
    "version": 3
   },
   "file_extension": ".py",
   "mimetype": "text/x-python",
   "name": "python",
   "nbconvert_exporter": "python",
   "pygments_lexer": "ipython3",
   "version": "3.7.3"
  }
 },
 "nbformat": 4,
 "nbformat_minor": 4
}
