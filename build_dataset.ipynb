{
 "cells": [
  {
   "cell_type": "code",
   "execution_count": 95,
   "metadata": {},
   "outputs": [],
   "source": [
    "import pandas as pd\n",
    "import csv\n",
    "import numpy as np"
   ]
  },
  {
   "cell_type": "markdown",
   "metadata": {},
   "source": [
    "Create the lambda function that cleans up floating point data.\n",
    "\n",
    "`29.37s` => `29.37`"
   ]
  },
  {
   "cell_type": "code",
   "execution_count": 96,
   "metadata": {},
   "outputs": [],
   "source": [
    "def is_float_element(x):\n",
    "    return x.isnumeric or x == '.'\n",
    "\n",
    "clean_float = lambda x: ''.join(filter(is_float_element, x))"
   ]
  },
  {
   "cell_type": "code",
   "execution_count": 97,
   "metadata": {},
   "outputs": [
    {
     "data": {
      "text/html": [
       "<div>\n",
       "<style scoped>\n",
       "    .dataframe tbody tr th:only-of-type {\n",
       "        vertical-align: middle;\n",
       "    }\n",
       "\n",
       "    .dataframe tbody tr th {\n",
       "        vertical-align: top;\n",
       "    }\n",
       "\n",
       "    .dataframe thead th {\n",
       "        text-align: right;\n",
       "    }\n",
       "</style>\n",
       "<table border=\"1\" class=\"dataframe\">\n",
       "  <thead>\n",
       "    <tr style=\"text-align: right;\">\n",
       "      <th></th>\n",
       "      <th>STATION</th>\n",
       "      <th>DATE</th>\n",
       "      <th>HourlyPresentWeatherType</th>\n",
       "      <th>HourlySkyConditions</th>\n",
       "      <th>HourlyStationPressure</th>\n",
       "      <th>HourlyVisibility</th>\n",
       "    </tr>\n",
       "  </thead>\n",
       "  <tbody>\n",
       "    <tr>\n",
       "      <th>0</th>\n",
       "      <td>72640594869</td>\n",
       "      <td>2010-01-01 00:15:00</td>\n",
       "      <td>NaN</td>\n",
       "      <td>NaN</td>\n",
       "      <td>29.37</td>\n",
       "      <td>10.00</td>\n",
       "    </tr>\n",
       "    <tr>\n",
       "      <th>1</th>\n",
       "      <td>72640594869</td>\n",
       "      <td>2010-01-01 00:35:00</td>\n",
       "      <td>NaN</td>\n",
       "      <td>NaN</td>\n",
       "      <td>29.37</td>\n",
       "      <td>10.00</td>\n",
       "    </tr>\n",
       "    <tr>\n",
       "      <th>2</th>\n",
       "      <td>72640594869</td>\n",
       "      <td>2010-01-01 00:55:00</td>\n",
       "      <td>NaN</td>\n",
       "      <td>NaN</td>\n",
       "      <td>29.38</td>\n",
       "      <td>10.00</td>\n",
       "    </tr>\n",
       "    <tr>\n",
       "      <th>3</th>\n",
       "      <td>72640594869</td>\n",
       "      <td>2010-01-01 01:15:00</td>\n",
       "      <td>NaN</td>\n",
       "      <td>NaN</td>\n",
       "      <td>29.38</td>\n",
       "      <td>10.00</td>\n",
       "    </tr>\n",
       "    <tr>\n",
       "      <th>4</th>\n",
       "      <td>72640594869</td>\n",
       "      <td>2010-01-01 01:36:00</td>\n",
       "      <td>NaN</td>\n",
       "      <td>NaN</td>\n",
       "      <td>29.38</td>\n",
       "      <td>10.00</td>\n",
       "    </tr>\n",
       "  </tbody>\n",
       "</table>\n",
       "</div>"
      ],
      "text/plain": [
       "       STATION                DATE HourlyPresentWeatherType  \\\n",
       "0  72640594869 2010-01-01 00:15:00                      NaN   \n",
       "1  72640594869 2010-01-01 00:35:00                      NaN   \n",
       "2  72640594869 2010-01-01 00:55:00                      NaN   \n",
       "3  72640594869 2010-01-01 01:15:00                      NaN   \n",
       "4  72640594869 2010-01-01 01:36:00                      NaN   \n",
       "\n",
       "  HourlySkyConditions HourlyStationPressure HourlyVisibility  \n",
       "0                 NaN                 29.37            10.00  \n",
       "1                 NaN                 29.37            10.00  \n",
       "2                 NaN                 29.38            10.00  \n",
       "3                 NaN                 29.38            10.00  \n",
       "4                 NaN                 29.38            10.00  "
      ]
     },
     "execution_count": 97,
     "metadata": {},
     "output_type": "execute_result"
    }
   ],
   "source": [
    "import glob\n",
    "data_path = 'LCD_Data/WI/data/*.csv'\n",
    "all_data = pd.concat([pd.read_csv(file_path,\n",
    "                            usecols=['STATION', 'DATE', 'HourlySkyConditions', 'HourlyStationPressure',\n",
    "                                'HourlyVisibility', 'HourlyPresentWeatherType'],\n",
    "                            parse_dates=['DATE'],\n",
    "                            dtype={'HourlySkyConditions': str, 'HourlyPresentWeatherType': str},\n",
    "                            converters={'HourlyStationPressure': clean_float, 'HourlyVisibility': clean_float})\n",
    "                         for file_path in glob.iglob(data_path)])\n",
    "all_data.head()"
   ]
  },
  {
   "cell_type": "markdown",
   "metadata": {},
   "source": [
    "Convert station ID to shorter form"
   ]
  },
  {
   "cell_type": "code",
   "execution_count": 98,
   "metadata": {},
   "outputs": [
    {
     "data": {
      "text/plain": [
       "0    94869\n",
       "1    94869\n",
       "2    94869\n",
       "3    94869\n",
       "4    94869\n",
       "Name: STATION, dtype: int64"
      ]
     },
     "execution_count": 98,
     "metadata": {},
     "output_type": "execute_result"
    }
   ],
   "source": [
    "all_data['STATION'] = all_data['STATION'].map(lambda x: int(str(x)[-5:]))\n",
    "all_data['STATION'].head()"
   ]
  },
  {
   "cell_type": "markdown",
   "metadata": {},
   "source": [
    "Convert weather codes to a more less specific form that can be used by the forcast api later. Codes are in the format `AU | AW | MW`. They need to be catagroized into `freezing_rain_heavy, freezing_rain, freezing_rain_light, freezing_drizzle, ice_pellets_heavy, ice_pellets, ice_pellets_light, snow_heavy, snow, snow_light, flurries, tstorm, rain_heavy, rain, rain_light, drizzle, fog_light, fog, cloudy, mostly_cloudy, partly_cloudy, mostly_clear, clear`."
   ]
  },
  {
   "cell_type": "code",
   "execution_count": 99,
   "metadata": {},
   "outputs": [],
   "source": [
    "import json\n",
    "with open('weather_lookup_converter.json') as json_file:\n",
    "    lookup = json.load(json_file)\n",
    "\n",
    "def weather_decoder(value):\n",
    "    if pd.notnull(value):\n",
    "        for weather_type in lookup:\n",
    "            for code in lookup[weather_type]:\n",
    "                if code in value:\n",
    "                    return weather_type\n",
    "\n",
    "all_data['weather_type'] = all_data.apply(lambda row: weather_decoder(row.HourlyPresentWeatherType), axis=1)"
   ]
  },
  {
   "cell_type": "markdown",
   "metadata": {},
   "source": [
    "Breaking up hourly sky conditions column to a cloud string, cloud base height, and cloud cover using another lookup table"
   ]
  },
  {
   "cell_type": "code",
   "execution_count": 100,
   "metadata": {},
   "outputs": [],
   "source": [
    "with open('cloud_lookup.json') as json_file:\n",
    "    lookup = json.load(json_file)\n",
    "\n",
    "def cloud_decoder(value):\n",
    "    if pd.notnull(value):\n",
    "        for cloud_type in lookup:\n",
    "            if cloud_type in value:\n",
    "                return lookup[cloud_type]\n",
    "    return lookup[\"CLR\"]\n",
    "            \n",
    "all_data['cloud_type'] = all_data.apply(lambda row: cloud_decoder(row.HourlySkyConditions)[\"cloud_str\"], axis=1)\n",
    "all_data['cloud_cover'] = all_data.apply(lambda row: cloud_decoder(row.HourlySkyConditions)[\"cloud_cover\"], axis=1)"
   ]
  },
  {
   "cell_type": "markdown",
   "metadata": {},
   "source": [
    "Combine station data (lat, long, elevation) with historic weather data."
   ]
  },
  {
   "cell_type": "code",
   "execution_count": 112,
   "metadata": {},
   "outputs": [],
   "source": [
    "station_meta_lookup = pd.read_csv('LCD_Data/WI/stations.csv',\n",
    "                                usecols=[\"STATION_ID\", \"LATITUDE\", \"LONGITUDE\", \"ELEVATION_(M)\"],\n",
    "                               dtype={\"LATITUDE\": float, \"LONGITUDE\": float})\n",
    "def get_matching(value):\n",
    "    for i, row in enumerate(station_meta_lookup[\"STATION_ID\"]):\n",
    "        if int(row[5:]) == value:\n",
    "            return i\n",
    "\n",
    "all_data[\"LATITUDE\"] = all_data.apply(lambda row: get_matching(row.STATION), axis=1)"
   ]
  },
  {
   "cell_type": "code",
   "execution_count": 113,
   "metadata": {},
   "outputs": [
    {
     "data": {
      "text/html": [
       "<div>\n",
       "<style scoped>\n",
       "    .dataframe tbody tr th:only-of-type {\n",
       "        vertical-align: middle;\n",
       "    }\n",
       "\n",
       "    .dataframe tbody tr th {\n",
       "        vertical-align: top;\n",
       "    }\n",
       "\n",
       "    .dataframe thead th {\n",
       "        text-align: right;\n",
       "    }\n",
       "</style>\n",
       "<table border=\"1\" class=\"dataframe\">\n",
       "  <thead>\n",
       "    <tr style=\"text-align: right;\">\n",
       "      <th></th>\n",
       "      <th>STATION</th>\n",
       "      <th>DATE</th>\n",
       "      <th>HourlyPresentWeatherType</th>\n",
       "      <th>HourlySkyConditions</th>\n",
       "      <th>HourlyStationPressure</th>\n",
       "      <th>HourlyVisibility</th>\n",
       "      <th>weather_type</th>\n",
       "      <th>cloud_type</th>\n",
       "      <th>cloud_cover</th>\n",
       "      <th>LATITUDE</th>\n",
       "    </tr>\n",
       "  </thead>\n",
       "  <tbody>\n",
       "    <tr>\n",
       "      <th>0</th>\n",
       "      <td>94869</td>\n",
       "      <td>2010-01-01 00:15:00</td>\n",
       "      <td>NaN</td>\n",
       "      <td>NaN</td>\n",
       "      <td>29.37</td>\n",
       "      <td>10.00</td>\n",
       "      <td>None</td>\n",
       "      <td>clear</td>\n",
       "      <td>0.0</td>\n",
       "      <td>32</td>\n",
       "    </tr>\n",
       "    <tr>\n",
       "      <th>1</th>\n",
       "      <td>94869</td>\n",
       "      <td>2010-01-01 00:35:00</td>\n",
       "      <td>NaN</td>\n",
       "      <td>NaN</td>\n",
       "      <td>29.37</td>\n",
       "      <td>10.00</td>\n",
       "      <td>None</td>\n",
       "      <td>clear</td>\n",
       "      <td>0.0</td>\n",
       "      <td>32</td>\n",
       "    </tr>\n",
       "    <tr>\n",
       "      <th>2</th>\n",
       "      <td>94869</td>\n",
       "      <td>2010-01-01 00:55:00</td>\n",
       "      <td>NaN</td>\n",
       "      <td>NaN</td>\n",
       "      <td>29.38</td>\n",
       "      <td>10.00</td>\n",
       "      <td>None</td>\n",
       "      <td>clear</td>\n",
       "      <td>0.0</td>\n",
       "      <td>32</td>\n",
       "    </tr>\n",
       "    <tr>\n",
       "      <th>3</th>\n",
       "      <td>94869</td>\n",
       "      <td>2010-01-01 01:15:00</td>\n",
       "      <td>NaN</td>\n",
       "      <td>NaN</td>\n",
       "      <td>29.38</td>\n",
       "      <td>10.00</td>\n",
       "      <td>None</td>\n",
       "      <td>clear</td>\n",
       "      <td>0.0</td>\n",
       "      <td>32</td>\n",
       "    </tr>\n",
       "    <tr>\n",
       "      <th>4</th>\n",
       "      <td>94869</td>\n",
       "      <td>2010-01-01 01:36:00</td>\n",
       "      <td>NaN</td>\n",
       "      <td>NaN</td>\n",
       "      <td>29.38</td>\n",
       "      <td>10.00</td>\n",
       "      <td>None</td>\n",
       "      <td>clear</td>\n",
       "      <td>0.0</td>\n",
       "      <td>32</td>\n",
       "    </tr>\n",
       "  </tbody>\n",
       "</table>\n",
       "</div>"
      ],
      "text/plain": [
       "   STATION                DATE HourlyPresentWeatherType HourlySkyConditions  \\\n",
       "0    94869 2010-01-01 00:15:00                      NaN                 NaN   \n",
       "1    94869 2010-01-01 00:35:00                      NaN                 NaN   \n",
       "2    94869 2010-01-01 00:55:00                      NaN                 NaN   \n",
       "3    94869 2010-01-01 01:15:00                      NaN                 NaN   \n",
       "4    94869 2010-01-01 01:36:00                      NaN                 NaN   \n",
       "\n",
       "  HourlyStationPressure HourlyVisibility weather_type cloud_type  cloud_cover  \\\n",
       "0                 29.37            10.00         None      clear          0.0   \n",
       "1                 29.37            10.00         None      clear          0.0   \n",
       "2                 29.38            10.00         None      clear          0.0   \n",
       "3                 29.38            10.00         None      clear          0.0   \n",
       "4                 29.38            10.00         None      clear          0.0   \n",
       "\n",
       "   LATITUDE  \n",
       "0        32  \n",
       "1        32  \n",
       "2        32  \n",
       "3        32  \n",
       "4        32  "
      ]
     },
     "execution_count": 113,
     "metadata": {},
     "output_type": "execute_result"
    }
   ],
   "source": [
    "all_data.head()"
   ]
  },
  {
   "cell_type": "code",
   "execution_count": null,
   "metadata": {},
   "outputs": [],
   "source": []
  }
 ],
 "metadata": {
  "kernelspec": {
   "display_name": "Python 3",
   "language": "python",
   "name": "python3"
  },
  "language_info": {
   "codemirror_mode": {
    "name": "ipython",
    "version": 3
   },
   "file_extension": ".py",
   "mimetype": "text/x-python",
   "name": "python",
   "nbconvert_exporter": "python",
   "pygments_lexer": "ipython3",
   "version": "3.7.3"
  }
 },
 "nbformat": 4,
 "nbformat_minor": 4
}
