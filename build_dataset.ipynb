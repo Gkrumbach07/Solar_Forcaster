{
 "cells": [
  {
   "cell_type": "code",
   "execution_count": 79,
   "metadata": {},
   "outputs": [],
   "source": [
    "import pandas as pd\n",
    "import csv\n",
    "import numpy as np\n",
    "import os"
   ]
  },
  {
   "cell_type": "code",
   "execution_count": 80,
   "metadata": {},
   "outputs": [
    {
     "name": "stderr",
     "output_type": "stream",
     "text": [
      "/Users/gagekrumbach/.local/share/virtualenvs/Solar_Forcaster-m3btlaz4/lib/python3.7/site-packages/tqdm/std.py:668: FutureWarning: The Panel class is removed from pandas. Accessing it from the top-level namespace will also be removed in the next version\n",
      "  from pandas import Panel\n"
     ]
    }
   ],
   "source": [
    "from tqdm import tqdm\n",
    "tqdm.pandas(desc=\"Progress:\")"
   ]
  },
  {
   "cell_type": "markdown",
   "metadata": {},
   "source": [
    "Create the lambda function that cleans up floating point data.\n",
    "\n",
    "`29.37s` => `29.37`"
   ]
  },
  {
   "cell_type": "code",
   "execution_count": 81,
   "metadata": {},
   "outputs": [
    {
     "name": "stderr",
     "output_type": "stream",
     "text": [
      "/Users/gagekrumbach/.local/share/virtualenvs/Solar_Forcaster-m3btlaz4/lib/python3.7/site-packages/IPython/core/interactiveshell.py:3254: DtypeWarning: Columns (0) have mixed types.Specify dtype option on import or set low_memory=False.\n",
      "  if (await self.run_code(code, result,  async_=asy)):\n"
     ]
    },
    {
     "data": {
      "text/plain": [
       "(1397040, 7)"
      ]
     },
     "execution_count": 81,
     "metadata": {},
     "output_type": "execute_result"
    }
   ],
   "source": [
    "import glob\n",
    "\n",
    "data_path = 'LCD_Data/WI/data/*.csv'\n",
    "clean_float = lambda x: ''.join(filter(lambda y: y.isdigit() or y == '.', x))\n",
    "\n",
    "raw_data = pd.concat([pd.read_csv(file_path,\n",
    "                            usecols=['STATION', 'DATE', 'HourlySkyConditions', 'HourlyStationPressure',\n",
    "                                'HourlyVisibility', 'HourlyPresentWeatherType', 'HourlyPrecipitation'],\n",
    "                            parse_dates=['DATE'],\n",
    "                            dtype={'HourlySkyConditions': str, 'HourlyPresentWeatherType': str},\n",
    "                            converters={'HourlyStationPressure': clean_float, 'HourlyVisibility': clean_float,\n",
    "                                        'HourlyPrecipitation': clean_float})\n",
    "                         for file_path in glob.iglob(data_path)])\n",
    "raw_data.shape"
   ]
  },
  {
   "cell_type": "markdown",
   "metadata": {},
   "source": [
    "Sample data for faster development"
   ]
  },
  {
   "cell_type": "code",
   "execution_count": 82,
   "metadata": {},
   "outputs": [
    {
     "data": {
      "text/html": [
       "<div>\n",
       "<style scoped>\n",
       "    .dataframe tbody tr th:only-of-type {\n",
       "        vertical-align: middle;\n",
       "    }\n",
       "\n",
       "    .dataframe tbody tr th {\n",
       "        vertical-align: top;\n",
       "    }\n",
       "\n",
       "    .dataframe thead th {\n",
       "        text-align: right;\n",
       "    }\n",
       "</style>\n",
       "<table border=\"1\" class=\"dataframe\">\n",
       "  <thead>\n",
       "    <tr style=\"text-align: right;\">\n",
       "      <th></th>\n",
       "      <th>STATION</th>\n",
       "      <th>DATE</th>\n",
       "      <th>HourlyPrecipitation</th>\n",
       "      <th>HourlyPresentWeatherType</th>\n",
       "      <th>HourlySkyConditions</th>\n",
       "      <th>HourlyStationPressure</th>\n",
       "      <th>HourlyVisibility</th>\n",
       "    </tr>\n",
       "  </thead>\n",
       "  <tbody>\n",
       "    <tr>\n",
       "      <th>0</th>\n",
       "      <td>72233254953</td>\n",
       "      <td>2017-01-01 00:15:00</td>\n",
       "      <td></td>\n",
       "      <td>NaN</td>\n",
       "      <td>OVC:08 110</td>\n",
       "      <td>28.18</td>\n",
       "      <td>10.00</td>\n",
       "    </tr>\n",
       "    <tr>\n",
       "      <th>1</th>\n",
       "      <td>72233254953</td>\n",
       "      <td>2017-01-01 00:35:00</td>\n",
       "      <td></td>\n",
       "      <td>NaN</td>\n",
       "      <td>BKN:07 60 BKN:07 65 OVC:08 100</td>\n",
       "      <td>28.18</td>\n",
       "      <td>10.00</td>\n",
       "    </tr>\n",
       "    <tr>\n",
       "      <th>2</th>\n",
       "      <td>72233254953</td>\n",
       "      <td>2017-01-01 00:55:00</td>\n",
       "      <td></td>\n",
       "      <td>NaN</td>\n",
       "      <td>BKN:07 55 BKN:07 70 OVC:08 100</td>\n",
       "      <td>28.18</td>\n",
       "      <td>10.00</td>\n",
       "    </tr>\n",
       "    <tr>\n",
       "      <th>3</th>\n",
       "      <td>72233254953</td>\n",
       "      <td>2017-01-01 01:15:00</td>\n",
       "      <td></td>\n",
       "      <td>NaN</td>\n",
       "      <td>SCT:04 55 OVC:08 90</td>\n",
       "      <td>28.17</td>\n",
       "      <td>10.00</td>\n",
       "    </tr>\n",
       "    <tr>\n",
       "      <th>4</th>\n",
       "      <td>72233254953</td>\n",
       "      <td>2017-01-01 01:35:00</td>\n",
       "      <td></td>\n",
       "      <td>NaN</td>\n",
       "      <td>SCT:04 50 OVC:08 90</td>\n",
       "      <td>28.18</td>\n",
       "      <td>10.00</td>\n",
       "    </tr>\n",
       "  </tbody>\n",
       "</table>\n",
       "</div>"
      ],
      "text/plain": [
       "       STATION                DATE HourlyPrecipitation  \\\n",
       "0  72233254953 2017-01-01 00:15:00                       \n",
       "1  72233254953 2017-01-01 00:35:00                       \n",
       "2  72233254953 2017-01-01 00:55:00                       \n",
       "3  72233254953 2017-01-01 01:15:00                       \n",
       "4  72233254953 2017-01-01 01:35:00                       \n",
       "\n",
       "  HourlyPresentWeatherType             HourlySkyConditions  \\\n",
       "0                      NaN                      OVC:08 110   \n",
       "1                      NaN  BKN:07 60 BKN:07 65 OVC:08 100   \n",
       "2                      NaN  BKN:07 55 BKN:07 70 OVC:08 100   \n",
       "3                      NaN             SCT:04 55 OVC:08 90   \n",
       "4                      NaN             SCT:04 50 OVC:08 90   \n",
       "\n",
       "  HourlyStationPressure HourlyVisibility  \n",
       "0                 28.18            10.00  \n",
       "1                 28.18            10.00  \n",
       "2                 28.18            10.00  \n",
       "3                 28.17            10.00  \n",
       "4                 28.18            10.00  "
      ]
     },
     "execution_count": 82,
     "metadata": {},
     "output_type": "execute_result"
    }
   ],
   "source": [
    "w_data = raw_data\n",
    "#w_data = w_data.sample(n=10000)\n",
    "w_data.head()"
   ]
  },
  {
   "cell_type": "markdown",
   "metadata": {},
   "source": [
    "Convert station ID to shorter form"
   ]
  },
  {
   "cell_type": "code",
   "execution_count": 83,
   "metadata": {},
   "outputs": [
    {
     "data": {
      "text/plain": [
       "0    54953\n",
       "1    54953\n",
       "2    54953\n",
       "3    54953\n",
       "4    54953\n",
       "Name: STATION, dtype: int64"
      ]
     },
     "execution_count": 83,
     "metadata": {},
     "output_type": "execute_result"
    }
   ],
   "source": [
    "w_data['STATION'] = w_data['STATION'].map(lambda x: int(str(x)[-5:]))\n",
    "w_data['STATION'].head()"
   ]
  },
  {
   "cell_type": "markdown",
   "metadata": {},
   "source": [
    "Convert weather codes to a more less specific form that can be used by the forcast api later. Codes are in the format `AU | AW | MW`. They need to be catagroized into `freezing_rain_heavy, freezing_rain, freezing_rain_light, freezing_drizzle, ice_pellets_heavy, ice_pellets, ice_pellets_light, snow_heavy, snow, snow_light, flurries, tstorm, rain_heavy, rain, rain_light, drizzle, fog_light, fog, cloudy, mostly_cloudy, partly_cloudy, mostly_clear, clear`."
   ]
  },
  {
   "cell_type": "code",
   "execution_count": 84,
   "metadata": {},
   "outputs": [
    {
     "name": "stderr",
     "output_type": "stream",
     "text": [
      "Progress:: 100%|██████████| 1397040/1397040 [00:33<00:00, 41107.00it/s]\n"
     ]
    }
   ],
   "source": [
    "import json\n",
    "with open('weather_lookup_converter.json') as json_file:\n",
    "    lookup = json.load(json_file)\n",
    "\n",
    "def weather_decoder(value):\n",
    "    if pd.notnull(value):\n",
    "        for weather_type in lookup:\n",
    "            for code in lookup[weather_type]:\n",
    "                if code in value:\n",
    "                    return weather_type\n",
    "\n",
    "w_data['weather_type'] = w_data.progress_apply(lambda row: weather_decoder(row.HourlyPresentWeatherType), axis=1)"
   ]
  },
  {
   "cell_type": "markdown",
   "metadata": {},
   "source": [
    "Breaking up hourly sky conditions column to a cloud string, cloud base height, and cloud cover using another lookup table"
   ]
  },
  {
   "cell_type": "code",
   "execution_count": 85,
   "metadata": {},
   "outputs": [
    {
     "name": "stderr",
     "output_type": "stream",
     "text": [
      "Progress:: 100%|██████████| 1397040/1397040 [00:35<00:00, 39858.75it/s]\n",
      "Progress:: 100%|██████████| 1397040/1397040 [00:34<00:00, 40215.93it/s]\n"
     ]
    }
   ],
   "source": [
    "with open('cloud_lookup.json') as json_file:\n",
    "    lookup = json.load(json_file)\n",
    "\n",
    "def cloud_decoder(value):\n",
    "    if pd.notnull(value):\n",
    "        for cloud_type in lookup:\n",
    "            if cloud_type in value:\n",
    "                return lookup[cloud_type]\n",
    "    return lookup[\"CLR\"]\n",
    "            \n",
    "w_data['cloud_type'] = w_data.progress_apply(lambda row: cloud_decoder(row.HourlySkyConditions)[\"cloud_str\"], axis=1)\n",
    "w_data['cloud_cover'] = w_data.progress_apply(lambda row: cloud_decoder(row.HourlySkyConditions)[\"cloud_cover\"], axis=1)"
   ]
  },
  {
   "cell_type": "markdown",
   "metadata": {},
   "source": [
    "Combine station data (lat, long, elevation) with historic weather data."
   ]
  },
  {
   "cell_type": "code",
   "execution_count": 86,
   "metadata": {},
   "outputs": [
    {
     "name": "stderr",
     "output_type": "stream",
     "text": [
      "Progress:: 100%|██████████| 1397040/1397040 [01:26<00:00, 16165.67it/s]\n",
      "Progress:: 100%|██████████| 1397040/1397040 [01:25<00:00, 16258.78it/s]\n",
      "Progress:: 100%|██████████| 1397040/1397040 [01:26<00:00, 16175.02it/s]\n"
     ]
    },
    {
     "data": {
      "text/html": [
       "<div>\n",
       "<style scoped>\n",
       "    .dataframe tbody tr th:only-of-type {\n",
       "        vertical-align: middle;\n",
       "    }\n",
       "\n",
       "    .dataframe tbody tr th {\n",
       "        vertical-align: top;\n",
       "    }\n",
       "\n",
       "    .dataframe thead th {\n",
       "        text-align: right;\n",
       "    }\n",
       "</style>\n",
       "<table border=\"1\" class=\"dataframe\">\n",
       "  <thead>\n",
       "    <tr style=\"text-align: right;\">\n",
       "      <th></th>\n",
       "      <th>STATION</th>\n",
       "      <th>DATE</th>\n",
       "      <th>HourlyPrecipitation</th>\n",
       "      <th>HourlyPresentWeatherType</th>\n",
       "      <th>HourlySkyConditions</th>\n",
       "      <th>HourlyStationPressure</th>\n",
       "      <th>HourlyVisibility</th>\n",
       "      <th>weather_type</th>\n",
       "      <th>cloud_type</th>\n",
       "      <th>cloud_cover</th>\n",
       "      <th>latitude</th>\n",
       "      <th>longitude</th>\n",
       "      <th>elevation</th>\n",
       "    </tr>\n",
       "  </thead>\n",
       "  <tbody>\n",
       "    <tr>\n",
       "      <th>0</th>\n",
       "      <td>54953</td>\n",
       "      <td>2017-01-01 00:15:00</td>\n",
       "      <td></td>\n",
       "      <td>NaN</td>\n",
       "      <td>OVC:08 110</td>\n",
       "      <td>28.18</td>\n",
       "      <td>10.00</td>\n",
       "      <td>None</td>\n",
       "      <td>cloudy</td>\n",
       "      <td>1.0</td>\n",
       "      <td>45.46917</td>\n",
       "      <td>-89.80556</td>\n",
       "      <td>452.9</td>\n",
       "    </tr>\n",
       "    <tr>\n",
       "      <th>1</th>\n",
       "      <td>54953</td>\n",
       "      <td>2017-01-01 00:35:00</td>\n",
       "      <td></td>\n",
       "      <td>NaN</td>\n",
       "      <td>BKN:07 60 BKN:07 65 OVC:08 100</td>\n",
       "      <td>28.18</td>\n",
       "      <td>10.00</td>\n",
       "      <td>None</td>\n",
       "      <td>cloudy</td>\n",
       "      <td>1.0</td>\n",
       "      <td>45.46917</td>\n",
       "      <td>-89.80556</td>\n",
       "      <td>452.9</td>\n",
       "    </tr>\n",
       "    <tr>\n",
       "      <th>2</th>\n",
       "      <td>54953</td>\n",
       "      <td>2017-01-01 00:55:00</td>\n",
       "      <td></td>\n",
       "      <td>NaN</td>\n",
       "      <td>BKN:07 55 BKN:07 70 OVC:08 100</td>\n",
       "      <td>28.18</td>\n",
       "      <td>10.00</td>\n",
       "      <td>None</td>\n",
       "      <td>cloudy</td>\n",
       "      <td>1.0</td>\n",
       "      <td>45.46917</td>\n",
       "      <td>-89.80556</td>\n",
       "      <td>452.9</td>\n",
       "    </tr>\n",
       "    <tr>\n",
       "      <th>3</th>\n",
       "      <td>54953</td>\n",
       "      <td>2017-01-01 01:15:00</td>\n",
       "      <td></td>\n",
       "      <td>NaN</td>\n",
       "      <td>SCT:04 55 OVC:08 90</td>\n",
       "      <td>28.17</td>\n",
       "      <td>10.00</td>\n",
       "      <td>None</td>\n",
       "      <td>cloudy</td>\n",
       "      <td>1.0</td>\n",
       "      <td>45.46917</td>\n",
       "      <td>-89.80556</td>\n",
       "      <td>452.9</td>\n",
       "    </tr>\n",
       "    <tr>\n",
       "      <th>4</th>\n",
       "      <td>54953</td>\n",
       "      <td>2017-01-01 01:35:00</td>\n",
       "      <td></td>\n",
       "      <td>NaN</td>\n",
       "      <td>SCT:04 50 OVC:08 90</td>\n",
       "      <td>28.18</td>\n",
       "      <td>10.00</td>\n",
       "      <td>None</td>\n",
       "      <td>cloudy</td>\n",
       "      <td>1.0</td>\n",
       "      <td>45.46917</td>\n",
       "      <td>-89.80556</td>\n",
       "      <td>452.9</td>\n",
       "    </tr>\n",
       "  </tbody>\n",
       "</table>\n",
       "</div>"
      ],
      "text/plain": [
       "   STATION                DATE HourlyPrecipitation HourlyPresentWeatherType  \\\n",
       "0    54953 2017-01-01 00:15:00                                          NaN   \n",
       "1    54953 2017-01-01 00:35:00                                          NaN   \n",
       "2    54953 2017-01-01 00:55:00                                          NaN   \n",
       "3    54953 2017-01-01 01:15:00                                          NaN   \n",
       "4    54953 2017-01-01 01:35:00                                          NaN   \n",
       "\n",
       "              HourlySkyConditions HourlyStationPressure HourlyVisibility  \\\n",
       "0                      OVC:08 110                 28.18            10.00   \n",
       "1  BKN:07 60 BKN:07 65 OVC:08 100                 28.18            10.00   \n",
       "2  BKN:07 55 BKN:07 70 OVC:08 100                 28.18            10.00   \n",
       "3             SCT:04 55 OVC:08 90                 28.17            10.00   \n",
       "4             SCT:04 50 OVC:08 90                 28.18            10.00   \n",
       "\n",
       "  weather_type cloud_type  cloud_cover  latitude  longitude  elevation  \n",
       "0         None     cloudy          1.0  45.46917  -89.80556      452.9  \n",
       "1         None     cloudy          1.0  45.46917  -89.80556      452.9  \n",
       "2         None     cloudy          1.0  45.46917  -89.80556      452.9  \n",
       "3         None     cloudy          1.0  45.46917  -89.80556      452.9  \n",
       "4         None     cloudy          1.0  45.46917  -89.80556      452.9  "
      ]
     },
     "execution_count": 86,
     "metadata": {},
     "output_type": "execute_result"
    }
   ],
   "source": [
    "station_meta_lookup = pd.read_csv('LCD_Data/WI/stations.csv',\n",
    "                                usecols=[\"STATION_ID\", \"STATION\", \"LATITUDE\", \"LONGITUDE\", \"ELEVATION_(M)\"],\n",
    "                               dtype={\"LATITUDE\": float, \"LONGITUDE\": float})\n",
    "\n",
    "def get_matching_row(value):\n",
    "    for i, row in enumerate(station_meta_lookup[\"STATION_ID\"]):\n",
    "        if int(row[5:]) == value:\n",
    "            return i\n",
    "\n",
    "w_data[\"latitude\"] = w_data.progress_apply(lambda row:\n",
    "                                      station_meta_lookup[\"LATITUDE\"][get_matching_row(row.STATION)], axis=1)\n",
    "w_data[\"longitude\"] = w_data.progress_apply(lambda row:\n",
    "                                      station_meta_lookup[\"LONGITUDE\"][get_matching_row(row.STATION)], axis=1)\n",
    "w_data[\"elevation\"] = w_data.progress_apply(lambda row:\n",
    "                                      station_meta_lookup[\"ELEVATION_(M)\"][get_matching_row(row.STATION)], axis=1)\n",
    "w_data.head()"
   ]
  },
  {
   "cell_type": "markdown",
   "metadata": {},
   "source": [
    "Use altair to visulize where the statations are. Each stattion has an average of about 10 mi for range. We will need to use spatial interpolation to fill the data."
   ]
  },
  {
   "cell_type": "code",
   "execution_count": 87,
   "metadata": {
    "scrolled": true
   },
   "outputs": [
    {
     "data": {
      "text/html": [
       "\n",
       "<div id=\"altair-viz-b74e42c17441463ea824bae6c0e09170\"></div>\n",
       "<script type=\"text/javascript\">\n",
       "  (function(spec, embedOpt){\n",
       "    let outputDiv = document.currentScript.previousElementSibling;\n",
       "    if (outputDiv.id !== \"altair-viz-b74e42c17441463ea824bae6c0e09170\") {\n",
       "      outputDiv = document.getElementById(\"altair-viz-b74e42c17441463ea824bae6c0e09170\");\n",
       "    }\n",
       "    const paths = {\n",
       "      \"vega\": \"https://cdn.jsdelivr.net/npm//vega@5?noext\",\n",
       "      \"vega-lib\": \"https://cdn.jsdelivr.net/npm//vega-lib?noext\",\n",
       "      \"vega-lite\": \"https://cdn.jsdelivr.net/npm//vega-lite@4.8.1?noext\",\n",
       "      \"vega-embed\": \"https://cdn.jsdelivr.net/npm//vega-embed@6?noext\",\n",
       "    };\n",
       "\n",
       "    function loadScript(lib) {\n",
       "      return new Promise(function(resolve, reject) {\n",
       "        var s = document.createElement('script');\n",
       "        s.src = paths[lib];\n",
       "        s.async = true;\n",
       "        s.onload = () => resolve(paths[lib]);\n",
       "        s.onerror = () => reject(`Error loading script: ${paths[lib]}`);\n",
       "        document.getElementsByTagName(\"head\")[0].appendChild(s);\n",
       "      });\n",
       "    }\n",
       "\n",
       "    function showError(err) {\n",
       "      outputDiv.innerHTML = `<div class=\"error\" style=\"color:red;\">${err}</div>`;\n",
       "      throw err;\n",
       "    }\n",
       "\n",
       "    function displayChart(vegaEmbed) {\n",
       "      vegaEmbed(outputDiv, spec, embedOpt)\n",
       "        .catch(err => showError(`Javascript Error: ${err.message}<br>This usually means there's a typo in your chart specification. See the javascript console for the full traceback.`));\n",
       "    }\n",
       "\n",
       "    if(typeof define === \"function\" && define.amd) {\n",
       "      requirejs.config({paths});\n",
       "      require([\"vega-embed\"], displayChart, err => showError(`Error loading script: ${err.message}`));\n",
       "    } else if (typeof vegaEmbed === \"function\") {\n",
       "      displayChart(vegaEmbed);\n",
       "    } else {\n",
       "      loadScript(\"vega\")\n",
       "        .then(() => loadScript(\"vega-lite\"))\n",
       "        .then(() => loadScript(\"vega-embed\"))\n",
       "        .catch(showError)\n",
       "        .then(() => displayChart(vegaEmbed));\n",
       "    }\n",
       "  })({\"config\": {\"view\": {\"continuousWidth\": 400, \"continuousHeight\": 300}}, \"layer\": [{\"data\": {\"url\": \"LCD_Data/WI/WI.geo.json\", \"format\": {\"feature\": \"collection\", \"type\": \"topojson\"}}, \"mark\": {\"type\": \"geoshape\", \"fill\": \"lightgray\", \"stroke\": \"white\"}, \"projection\": {\"type\": \"albersUsa\"}}, {\"data\": {\"name\": \"data-2712c2170b63142d97ff9a7bfc02d528\"}, \"mark\": {\"type\": \"circle\", \"color\": \"red\", \"size\": 50}, \"encoding\": {\"latitude\": {\"field\": \"LATITUDE\", \"type\": \"quantitative\"}, \"longitude\": {\"field\": \"LONGITUDE\", \"type\": \"quantitative\"}, \"tooltip\": [{\"type\": \"nominal\", \"field\": \"STATION\"}]}}], \"$schema\": \"https://vega.github.io/schema/vega-lite/v4.8.1.json\", \"datasets\": {\"data-2712c2170b63142d97ff9a7bfc02d528\": [{\"STATION_ID\": \"WBAN:04864\", \"STATION\": \"ANTIGO LANGLADE CO AIRPORT, WI US\", \"LATITUDE\": 45.15417, \"LONGITUDE\": -89.11055999999999, \"ELEVATION_(M)\": 463.9}, {\"STATION_ID\": \"WBAN:04825\", \"STATION\": \"APPLETON OUTAGAMIE CO AIRPORT, WI US\", \"LATITUDE\": 44.26667, \"LONGITUDE\": -88.51666999999999, \"ELEVATION_(M)\": 279.5}, {\"STATION_ID\": \"WBAN:94929\", \"STATION\": \"ASHLAND KENNEDY MEMORIAL AIRPORT, WI US\", \"LATITUDE\": 46.54861, \"LONGITUDE\": -90.91889, \"ELEVATION_(M)\": 251.8}, {\"STATION_ID\": \"WBAN:54833\", \"STATION\": \"BARABOO WISCONSIN DELLS AIRPORT, WI US\", \"LATITUDE\": 43.52194, \"LONGITUDE\": -89.77360999999999, \"ELEVATION_(M)\": 297.5}, {\"STATION_ID\": \"WBAN:00286\", \"STATION\": \"BLACK RIVER FALLS AREA AIRPORT, WI US\", \"LATITUDE\": 44.251000000000005, \"LONGITUDE\": -90.855, \"ELEVATION_(M)\": 255.1}, {\"STATION_ID\": \"WBAN:94994\", \"STATION\": \"BOSCOBEL AIRPORT, WI US\", \"LATITUDE\": 43.15611, \"LONGITUDE\": -90.6775, \"ELEVATION_(M)\": 204.8}, {\"STATION_ID\": \"WBAN:04866\", \"STATION\": \"BURLINGTON MUNICIPAL AIRPORT, WI US\", \"LATITUDE\": 42.69, \"LONGITUDE\": -88.30360999999999, \"ELEVATION_(M)\": 237.4}, {\"STATION_ID\": \"WBAN:14991\", \"STATION\": \"CHIPPEWA VALLEY REGIONAL AIRPORT, WI US\", \"LATITUDE\": 44.8665, \"LONGITUDE\": -91.4879, \"ELEVATION_(M)\": 269.7}, {\"STATION_ID\": \"WBAN:54832\", \"STATION\": \"CLINTONVILLE MUNICIPAL AIRPORT, WI US\", \"LATITUDE\": 44.613890000000005, \"LONGITUDE\": -88.73139, \"ELEVATION_(M)\": 250.5}, {\"STATION_ID\": \"WBAN:00316\", \"STATION\": \"CUMBERLAND MUNICIPAL AIRPORT, WI US\", \"LATITUDE\": 45.506, \"LONGITUDE\": -91.98100000000001, \"ELEVATION_(M)\": 378.3}, {\"STATION_ID\": \"WBAN:54838\", \"STATION\": \"EAGLE RIVER UNION AIRPORT, WI US\", \"LATITUDE\": 45.931670000000004, \"LONGITUDE\": -89.26889, \"ELEVATION_(M)\": 500.5}, {\"STATION_ID\": \"WBAN:04840\", \"STATION\": \"FOND DU LAC CO AIRPORT, WI US\", \"LATITUDE\": 43.76944, \"LONGITUDE\": -88.49083, \"ELEVATION_(M)\": 246.0}, {\"STATION_ID\": \"WBAN:14898\", \"STATION\": \"GREEN BAY A S INTERNATIONAL AIRPORT, WI US\", \"LATITUDE\": 44.4794, \"LONGITUDE\": -88.1366, \"ELEVATION_(M)\": 209.4}, {\"STATION_ID\": \"WBAN:94973\", \"STATION\": \"HAYWARD MUNICIPAL AIRPORT, WI US\", \"LATITUDE\": 46.026109999999996, \"LONGITUDE\": -91.44417, \"ELEVATION_(M)\": 367.0}, {\"STATION_ID\": \"WBAN:00464\", \"STATION\": \"J DOUGLAS BAKE MEMORIAL AIRPORT, WI US\", \"LATITUDE\": 44.87405, \"LONGITUDE\": -87.90977, \"ELEVATION_(M)\": 184.4}, {\"STATION_ID\": \"WBAN:94854\", \"STATION\": \"JANESVILLE ROCK CO, WI US\", \"LATITUDE\": 42.61667, \"LONGITUDE\": -89.03333, \"ELEVATION_(M)\": 246.3}, {\"STATION_ID\": \"WBAN:04898\", \"STATION\": \"JUNEAU DODGE CO AIRPORT, WI US\", \"LATITUDE\": 43.426390000000005, \"LONGITUDE\": -88.70306, \"ELEVATION_(M)\": 285.3}, {\"STATION_ID\": \"WBAN:04845\", \"STATION\": \"KENOSHA REGIONAL AIRPORT, WI US\", \"LATITUDE\": 42.595, \"LONGITUDE\": -87.93806, \"ELEVATION_(M)\": 226.5}, {\"STATION_ID\": \"WBAN:14886\", \"STATION\": \"KINGS LAND O LAKES AIRPORT, WI US\", \"LATITUDE\": 46.15, \"LONGITUDE\": -89.21667, \"ELEVATION_(M)\": 519.4}, {\"STATION_ID\": \"WBAN:14920\", \"STATION\": \"LA CROSSE MUNICIPAL AIRPORT, WI US\", \"LATITUDE\": 43.8788, \"LONGITUDE\": -91.2527, \"ELEVATION_(M)\": 198.7}, {\"STATION_ID\": \"WBAN:54928\", \"STATION\": \"LADYSMITH RUSK CO AIRPORT, WI US\", \"LATITUDE\": 45.49694, \"LONGITUDE\": -91.00056, \"ELEVATION_(M)\": 377.3}, {\"STATION_ID\": \"WBAN:04865\", \"STATION\": \"LAKELAND NOBLE LEE MEMORIAL FIELD AIRPORT, WI US\", \"LATITUDE\": 45.92778, \"LONGITUDE\": -89.73083000000001, \"ELEVATION_(M)\": 496.8}, {\"STATION_ID\": \"WBAN:14921\", \"STATION\": \"LONE ROCK TRI CO AIRPORT, WI US\", \"LATITUDE\": 43.211940000000006, \"LONGITUDE\": -90.18139000000001, \"ELEVATION_(M)\": 218.5}, {\"STATION_ID\": \"WBAN:14837\", \"STATION\": \"MADISON DANE CO REGIONAL AIRPORT, WI US\", \"LATITUDE\": 43.1405, \"LONGITUDE\": -89.3452, \"ELEVATION_(M)\": 264.0}, {\"STATION_ID\": \"WBAN:00297\", \"STATION\": \"MANITOWISH WATERS AIRPORT, WI US\", \"LATITUDE\": 46.117, \"LONGITUDE\": -89.883, \"ELEVATION_(M)\": 491.0}, {\"STATION_ID\": \"WBAN:94897\", \"STATION\": \"MANITOWOC, WI US\", \"LATITUDE\": 44.13333, \"LONGITUDE\": -87.66667, \"ELEVATION_(M)\": 198.4}, {\"STATION_ID\": \"WBAN:94985\", \"STATION\": \"MARSHFIELD MUNICIPAL AIRPORT, WI US\", \"LATITUDE\": 44.638059999999996, \"LONGITUDE\": -90.1875, \"ELEVATION_(M)\": 382.5}, {\"STATION_ID\": \"WBAN:54911\", \"STATION\": \"MEDFORD TAYLOR CO AIRPORT, WI US\", \"LATITUDE\": 45.10083, \"LONGITUDE\": -90.30333, \"ELEVATION_(M)\": 448.1}, {\"STATION_ID\": \"WBAN:04995\", \"STATION\": \"MENOMONIE MUNICIPAL AIRPORT SCORE FIELD, WI US\", \"LATITUDE\": 44.89222, \"LONGITUDE\": -91.86778000000001, \"ELEVATION_(M)\": 272.8}, {\"STATION_ID\": \"WBAN:04891\", \"STATION\": \"MERRILL MUNICIPAL AIRPORT, WI US\", \"LATITUDE\": 45.19917, \"LONGITUDE\": -89.71139000000001, \"ELEVATION_(M)\": 401.4}, {\"STATION_ID\": \"WBAN:00236\", \"STATION\": \"MIDDLETON MUNICIPAL MOREY FIELD AIRPORT, WI US\", \"LATITUDE\": 43.117, \"LONGITUDE\": -89.53299999999999, \"ELEVATION_(M)\": 283.2}, {\"STATION_ID\": \"WBAN:14839\", \"STATION\": \"MILWAUKEE MITCHELL INTERNATIONAL AIRPORT, WI US\", \"LATITUDE\": 42.955, \"LONGITUDE\": -87.9044, \"ELEVATION_(M)\": 204.2}, {\"STATION_ID\": \"WBAN:94869\", \"STATION\": \"MILWAUKEE TIMMERMAN AIRPORT, WI US\", \"LATITUDE\": 43.1086, \"LONGITUDE\": -88.0306, \"ELEVATION_(M)\": 223.7}, {\"STATION_ID\": \"WBAN:54907\", \"STATION\": \"MINERAL POINT IOWA CO AIRPORT, WI US\", \"LATITUDE\": 42.88667, \"LONGITUDE\": -90.23611, \"ELEVATION_(M)\": 356.9}, {\"STATION_ID\": \"WBAN:04873\", \"STATION\": \"MONROE MUNICIPAL AIRPORT, WI US\", \"LATITUDE\": 42.61472, \"LONGITUDE\": -89.59056, \"ELEVATION_(M)\": 330.7}, {\"STATION_ID\": \"WBAN:94890\", \"STATION\": \"MOSINEE, WI US\", \"LATITUDE\": 44.78333, \"LONGITUDE\": -89.66667, \"ELEVATION_(M)\": 389.2}, {\"STATION_ID\": \"WBAN:54903\", \"STATION\": \"NECEDAH 5 WNW, WI US\", \"LATITUDE\": 44.0604, \"LONGITUDE\": -90.1737, \"ELEVATION_(M)\": 284.4}, {\"STATION_ID\": \"WBAN:04968\", \"STATION\": \"NEW RICHMOND MUNICIPAL AIRPORT, WI US\", \"LATITUDE\": 45.15, \"LONGITUDE\": -92.53333, \"ELEVATION_(M)\": 304.2}, {\"STATION_ID\": \"WBAN:54912\", \"STATION\": \"OSCEOLA L O SIMENSTAD MUNICIPAL AIRPORT, WI US\", \"LATITUDE\": 45.30833, \"LONGITUDE\": -92.69, \"ELEVATION_(M)\": 275.2}, {\"STATION_ID\": \"WBAN:94855\", \"STATION\": \"OSHKOSH WITTMAN REGIONAL AIRPORT, WI US\", \"LATITUDE\": 43.98444, \"LONGITUDE\": -88.55694, \"ELEVATION_(M)\": 238.4}, {\"STATION_ID\": \"WBAN:54913\", \"STATION\": \"PHILLIPS PRICE CO AIRPORT, WI US\", \"LATITUDE\": 45.708890000000004, \"LONGITUDE\": -90.40222, \"ELEVATION_(M)\": 456.3}, {\"STATION_ID\": \"WBAN:00183\", \"STATION\": \"PLATTEVILLE MUNICIPAL AIRPORT, WI US\", \"LATITUDE\": 42.683, \"LONGITUDE\": -90.45, \"ELEVATION_(M)\": 312.1}, {\"STATION_ID\": \"WBAN:04963\", \"STATION\": \"PRAIRIE DU CHIEN MUNICIPAL AIRPORT, WI US\", \"LATITUDE\": 43.01917, \"LONGITUDE\": -91.12361, \"ELEVATION_(M)\": 201.5}, {\"STATION_ID\": \"WBAN:94818\", \"STATION\": \"RACINE BATTEN AIRPORT, WI US\", \"LATITUDE\": 42.761109999999995, \"LONGITUDE\": -87.81361, \"ELEVATION_(M)\": 205.4}, {\"STATION_ID\": \"WBAN:04967\", \"STATION\": \"RED WING REGIONAL AIRPORT, WI US\", \"LATITUDE\": 44.58917, \"LONGITUDE\": -92.48472, \"ELEVATION_(M)\": 237.7}, {\"STATION_ID\": \"WBAN:04803\", \"STATION\": \"RHINELANDER ONEIDA CO AIRPORT, WI US\", \"LATITUDE\": 45.6314, \"LONGITUDE\": -89.4823, \"ELEVATION_(M)\": 495.0}, {\"STATION_ID\": \"WBAN:54909\", \"STATION\": \"RICE LAKE REGIONAL AIRPORT CARLS FIELD, WI US\", \"LATITUDE\": 45.41861, \"LONGITUDE\": -91.77333, \"ELEVATION_(M)\": 336.8}, {\"STATION_ID\": \"WBAN:00185\", \"STATION\": \"SHAWANO MUNICIPAL AIRPORT, WI US\", \"LATITUDE\": 44.783, \"LONGITUDE\": -88.55, \"ELEVATION_(M)\": 248.1}, {\"STATION_ID\": \"WBAN:04841\", \"STATION\": \"SHEBOYGAN CO MEMORIAL AIRPORT, WI US\", \"LATITUDE\": 43.76944, \"LONGITUDE\": -87.85056, \"ELEVATION_(M)\": 227.4}, {\"STATION_ID\": \"WBAN:04972\", \"STATION\": \"SIREN BURNETT CO AIRPORT, WI US\", \"LATITUDE\": 45.8225, \"LONGITUDE\": -92.3725, \"ELEVATION_(M)\": 301.4}, {\"STATION_ID\": \"WBAN:94940\", \"STATION\": \"SPARTA FORT MCCOY, WI US\", \"LATITUDE\": 43.96667, \"LONGITUDE\": -90.73333000000001, \"ELEVATION_(M)\": 252.7}, {\"STATION_ID\": \"WBAN:04895\", \"STATION\": \"STEVENS POINT MUNICIPAL AIRPORT, WI US\", \"LATITUDE\": 44.55, \"LONGITUDE\": -89.53333, \"ELEVATION_(M)\": 338.3}, {\"STATION_ID\": \"WBAN:04824\", \"STATION\": \"STURGEON BAY DOOR CO CHERRYLAND AIRPORT, WI US\", \"LATITUDE\": 44.85, \"LONGITUDE\": -87.41667, \"ELEVATION_(M)\": 220.7}, {\"STATION_ID\": \"WBAN:54908\", \"STATION\": \"SUPERIOR RICHARD I BONG AIRPORT, WI US\", \"LATITUDE\": 46.689440000000005, \"LONGITUDE\": -92.09444, \"ELEVATION_(M)\": 205.4}, {\"STATION_ID\": \"WBAN:54953\", \"STATION\": \"TOMAHAWK REGIONAL AIRPORT, WI US\", \"LATITUDE\": 45.46917, \"LONGITUDE\": -89.80556, \"ELEVATION_(M)\": 452.9}, {\"STATION_ID\": \"WBAN:00241\", \"STATION\": \"VIROQUA MUNICIPAL AIRPORT, WI US\", \"LATITUDE\": 43.57899999999999, \"LONGITUDE\": -90.913, \"ELEVATION_(M)\": 394.1}, {\"STATION_ID\": \"WBAN:94930\", \"STATION\": \"VOLK FIELD ANG, WI US\", \"LATITUDE\": 43.93333, \"LONGITUDE\": -90.26666999999999, \"ELEVATION_(M)\": 278.0}, {\"STATION_ID\": \"WBAN:54834\", \"STATION\": \"WATERTOWN MUNICIPAL AIRPORT, WI US\", \"LATITUDE\": 43.16667, \"LONGITUDE\": -88.71667, \"ELEVATION_(M)\": 249.9}, {\"STATION_ID\": \"WBAN:04897\", \"STATION\": \"WAUKESHA CO AIRPORT, WI US\", \"LATITUDE\": 43.04083, \"LONGITUDE\": -88.23694, \"ELEVATION_(M)\": 277.7}, {\"STATION_ID\": \"WBAN:54852\", \"STATION\": \"WAUPACA MUNICIPAL AIRPORT, WI US\", \"LATITUDE\": 44.33333, \"LONGITUDE\": -89.01971999999999, \"ELEVATION_(M)\": 251.8}, {\"STATION_ID\": \"WBAN:14897\", \"STATION\": \"WAUSAU ASOS, WI US\", \"LATITUDE\": 44.9288, \"LONGITUDE\": -89.6277, \"ELEVATION_(M)\": 365.8}, {\"STATION_ID\": \"WBAN:00132\", \"STATION\": \"WAUTOMA MUNICIPAL AIRPORT, WI US\", \"LATITUDE\": 44.033, \"LONGITUDE\": -89.3, \"ELEVATION_(M)\": 262.1}, {\"STATION_ID\": \"WBAN:04875\", \"STATION\": \"WEST BEND MUNICIPAL AIRPORT, WI US\", \"LATITUDE\": 43.41667, \"LONGITUDE\": -88.13333, \"ELEVATION_(M)\": 269.4}, {\"STATION_ID\": \"WBAN:04826\", \"STATION\": \"WISCONSIN RAPIDS ALEXANDER FIELD, WI US\", \"LATITUDE\": 44.35917, \"LONGITUDE\": -89.83694, \"ELEVATION_(M)\": 310.6}]}}, {\"mode\": \"vega-lite\"});\n",
       "</script>"
      ],
      "text/plain": [
       "alt.LayerChart(...)"
      ]
     },
     "execution_count": 87,
     "metadata": {},
     "output_type": "execute_result"
    }
   ],
   "source": [
    "import altair as alt\n",
    "\n",
    "state = alt.topo_feature('LCD_Data/WI/WI.geo.json', 'collection')\n",
    "\n",
    "# US states background\n",
    "background = alt.Chart(state).mark_geoshape(\n",
    "    fill='lightgray',\n",
    "    stroke='white'\n",
    ").project('albersUsa')\n",
    "\n",
    "# airport positions on background\n",
    "points = alt.Chart(station_meta_lookup).mark_circle(\n",
    "    size=50,\n",
    "    color='red'\n",
    ").encode(\n",
    "    longitude='LONGITUDE:Q',\n",
    "    latitude='LATITUDE:Q',\n",
    "    tooltip=['STATION:N'])\n",
    "\n",
    "background + points"
   ]
  },
  {
   "cell_type": "markdown",
   "metadata": {},
   "source": [
    "Load the NREL api to get solar data for each point."
   ]
  },
  {
   "cell_type": "code",
   "execution_count": 88,
   "metadata": {},
   "outputs": [
    {
     "name": "stderr",
     "output_type": "stream",
     "text": [
      "64it [07:55,  7.44s/it]\n"
     ]
    }
   ],
   "source": [
    "def create_url(lat, lon, year, api_key, attributes, your_name, reason_for_use, your_affiliation, your_email):\n",
    "    return 'http://developer.nrel.gov/api/solar/nsrdb_psm3_download.csv?wkt=POINT({lon}%20{lat})&names={year}&leap_day=false&interval=60&utc=false&full_name={name}&email={email}&affiliation={affiliation}&mailing_list=false&reason={reason}&api_key={api}&attributes={attributes}'\\\n",
    "    .format(year=year, lat=lat, lon=lon,\n",
    "        name=your_name, email=your_email,\n",
    "        affiliation=your_affiliation,\n",
    "        reason=reason_for_use, api=api_key,\n",
    "        attributes=attributes)\n",
    "\n",
    "import time  \n",
    "data_year = '2017'\n",
    "for step, point in enumerate(tqdm(station_meta_lookup.iterrows())):    \n",
    "    url = create_url(lat=str(point[1][2]),\n",
    "                     lon=str(point[1][3]),\n",
    "                     api_key=os.getenv('MY_VAR'),\n",
    "                     attributes=\"air_temperature,dew_point,dhi,dni,ghi,relative_humidity,wind_direction,wind_speed\",\n",
    "                     year=data_year,\n",
    "                     your_name='Gage+Krumbach',\n",
    "                     reason_for_use='demo',\n",
    "                     your_affiliation='my+institution',\n",
    "                     your_email='gkrumbac@redhat.com')\n",
    "    output = pd.read_csv(url, skiprows=2)\n",
    "    output[\"STATION\"] = int(point[1][0][5:])\n",
    "    output[\"DATE\"] =pd.date_range('1/1/{yr}'.format(yr=data_year),\n",
    "                                                    freq='60'+'Min',\n",
    "                                                    periods=525600/60)\n",
    "    \n",
    "    if step==0:\n",
    "        solar_data = output\n",
    "    else:\n",
    "        solar_data = solar_data.append(output)\n",
    "    \n",
    "    time.sleep(3)"
   ]
  },
  {
   "cell_type": "code",
   "execution_count": 89,
   "metadata": {},
   "outputs": [],
   "source": [
    "df_merge_asof = pd.merge_asof(solar_data.sort_values(by=['DATE']), w_data.sort_values(by=['DATE']),\n",
    "              on='DATE',\n",
    "              by='STATION',\n",
    "             direction='nearest')"
   ]
  },
  {
   "cell_type": "code",
   "execution_count": 90,
   "metadata": {},
   "outputs": [
    {
     "data": {
      "text/html": [
       "<div>\n",
       "<style scoped>\n",
       "    .dataframe tbody tr th:only-of-type {\n",
       "        vertical-align: middle;\n",
       "    }\n",
       "\n",
       "    .dataframe tbody tr th {\n",
       "        vertical-align: top;\n",
       "    }\n",
       "\n",
       "    .dataframe thead th {\n",
       "        text-align: right;\n",
       "    }\n",
       "</style>\n",
       "<table border=\"1\" class=\"dataframe\">\n",
       "  <thead>\n",
       "    <tr style=\"text-align: right;\">\n",
       "      <th></th>\n",
       "      <th>Year</th>\n",
       "      <th>Month</th>\n",
       "      <th>Day</th>\n",
       "      <th>Hour</th>\n",
       "      <th>Minute</th>\n",
       "      <th>Temperature</th>\n",
       "      <th>Dew Point</th>\n",
       "      <th>DHI</th>\n",
       "      <th>DNI</th>\n",
       "      <th>GHI</th>\n",
       "      <th>...</th>\n",
       "      <th>HourlyPresentWeatherType</th>\n",
       "      <th>HourlySkyConditions</th>\n",
       "      <th>HourlyStationPressure</th>\n",
       "      <th>HourlyVisibility</th>\n",
       "      <th>weather_type</th>\n",
       "      <th>cloud_type</th>\n",
       "      <th>cloud_cover</th>\n",
       "      <th>latitude</th>\n",
       "      <th>longitude</th>\n",
       "      <th>elevation</th>\n",
       "    </tr>\n",
       "  </thead>\n",
       "  <tbody>\n",
       "  </tbody>\n",
       "</table>\n",
       "<p>0 rows × 26 columns</p>\n",
       "</div>"
      ],
      "text/plain": [
       "Empty DataFrame\n",
       "Columns: [Year, Month, Day, Hour, Minute, Temperature, Dew Point, DHI, DNI, GHI, Relative Humidity, Wind Direction, Wind Speed, STATION, DATE, HourlyPrecipitation, HourlyPresentWeatherType, HourlySkyConditions, HourlyStationPressure, HourlyVisibility, weather_type, cloud_type, cloud_cover, latitude, longitude, elevation]\n",
       "Index: []\n",
       "\n",
       "[0 rows x 26 columns]"
      ]
     },
     "execution_count": 90,
     "metadata": {},
     "output_type": "execute_result"
    }
   ],
   "source": [
    "is_station = df_merge_asof['STATION']==94929\n",
    "df_merge_asof[is_station].loc[(df_merge_asof[is_station]['DATE'] > '01-01-2010') & (df_merge_asof[is_station]['DATE'] < '01-2-2010')]"
   ]
  },
  {
   "cell_type": "code",
   "execution_count": 91,
   "metadata": {},
   "outputs": [
    {
     "data": {
      "text/html": [
       "<div>\n",
       "<style scoped>\n",
       "    .dataframe tbody tr th:only-of-type {\n",
       "        vertical-align: middle;\n",
       "    }\n",
       "\n",
       "    .dataframe tbody tr th {\n",
       "        vertical-align: top;\n",
       "    }\n",
       "\n",
       "    .dataframe thead th {\n",
       "        text-align: right;\n",
       "    }\n",
       "</style>\n",
       "<table border=\"1\" class=\"dataframe\">\n",
       "  <thead>\n",
       "    <tr style=\"text-align: right;\">\n",
       "      <th></th>\n",
       "      <th>STATION</th>\n",
       "      <th>DATE</th>\n",
       "      <th>latitude</th>\n",
       "      <th>longitude</th>\n",
       "      <th>elevation</th>\n",
       "      <th>Temperature</th>\n",
       "      <th>Dew Point</th>\n",
       "      <th>Relative Humidity</th>\n",
       "      <th>HourlyStationPressure</th>\n",
       "      <th>Wind Direction</th>\n",
       "      <th>Wind Speed</th>\n",
       "      <th>HourlyVisibility</th>\n",
       "      <th>weather_type</th>\n",
       "      <th>cloud_type</th>\n",
       "      <th>cloud_cover</th>\n",
       "      <th>DHI</th>\n",
       "      <th>DNI</th>\n",
       "      <th>GHI</th>\n",
       "    </tr>\n",
       "  </thead>\n",
       "  <tbody>\n",
       "    <tr>\n",
       "      <th>0</th>\n",
       "      <td>4864</td>\n",
       "      <td>2017-01-01</td>\n",
       "      <td>45.15417</td>\n",
       "      <td>-89.11056</td>\n",
       "      <td>463.9</td>\n",
       "      <td>-12</td>\n",
       "      <td>-13</td>\n",
       "      <td>79.65</td>\n",
       "      <td>28.17</td>\n",
       "      <td>232.1</td>\n",
       "      <td>3.9</td>\n",
       "      <td>10.00</td>\n",
       "      <td>None</td>\n",
       "      <td>cloudy</td>\n",
       "      <td>1.0</td>\n",
       "      <td>0</td>\n",
       "      <td>0</td>\n",
       "      <td>0</td>\n",
       "    </tr>\n",
       "    <tr>\n",
       "      <th>1</th>\n",
       "      <td>4898</td>\n",
       "      <td>2017-01-01</td>\n",
       "      <td>43.42639</td>\n",
       "      <td>-88.70306</td>\n",
       "      <td>285.3</td>\n",
       "      <td>-12</td>\n",
       "      <td>-13</td>\n",
       "      <td>90.69</td>\n",
       "      <td>28.93</td>\n",
       "      <td>234.9</td>\n",
       "      <td>2.3</td>\n",
       "      <td>10.00</td>\n",
       "      <td>None</td>\n",
       "      <td>clear</td>\n",
       "      <td>0.0</td>\n",
       "      <td>0</td>\n",
       "      <td>0</td>\n",
       "      <td>0</td>\n",
       "    </tr>\n",
       "    <tr>\n",
       "      <th>2</th>\n",
       "      <td>94940</td>\n",
       "      <td>2017-01-01</td>\n",
       "      <td>43.96667</td>\n",
       "      <td>-90.73333</td>\n",
       "      <td>252.7</td>\n",
       "      <td>-11</td>\n",
       "      <td>-14</td>\n",
       "      <td>76.42</td>\n",
       "      <td>29.00</td>\n",
       "      <td>219.6</td>\n",
       "      <td>4.2</td>\n",
       "      <td>10.00</td>\n",
       "      <td>None</td>\n",
       "      <td>clear</td>\n",
       "      <td>0.0</td>\n",
       "      <td>0</td>\n",
       "      <td>0</td>\n",
       "      <td>0</td>\n",
       "    </tr>\n",
       "    <tr>\n",
       "      <th>3</th>\n",
       "      <td>94854</td>\n",
       "      <td>2017-01-01</td>\n",
       "      <td>42.61667</td>\n",
       "      <td>-89.03333</td>\n",
       "      <td>246.3</td>\n",
       "      <td>-9</td>\n",
       "      <td>-10</td>\n",
       "      <td>98.56</td>\n",
       "      <td>29.09</td>\n",
       "      <td>251.0</td>\n",
       "      <td>1.5</td>\n",
       "      <td>10.00</td>\n",
       "      <td>None</td>\n",
       "      <td>clear</td>\n",
       "      <td>0.0</td>\n",
       "      <td>0</td>\n",
       "      <td>0</td>\n",
       "      <td>0</td>\n",
       "    </tr>\n",
       "    <tr>\n",
       "      <th>4</th>\n",
       "      <td>4895</td>\n",
       "      <td>2017-01-01</td>\n",
       "      <td>44.55000</td>\n",
       "      <td>-89.53333</td>\n",
       "      <td>338.3</td>\n",
       "      <td>-12</td>\n",
       "      <td>-14</td>\n",
       "      <td>79.90</td>\n",
       "      <td>28.67</td>\n",
       "      <td>234.6</td>\n",
       "      <td>3.3</td>\n",
       "      <td>10.00</td>\n",
       "      <td>None</td>\n",
       "      <td>cloudy</td>\n",
       "      <td>1.0</td>\n",
       "      <td>0</td>\n",
       "      <td>0</td>\n",
       "      <td>0</td>\n",
       "    </tr>\n",
       "  </tbody>\n",
       "</table>\n",
       "</div>"
      ],
      "text/plain": [
       "   STATION       DATE  latitude  longitude  elevation  Temperature  Dew Point  \\\n",
       "0     4864 2017-01-01  45.15417  -89.11056      463.9          -12        -13   \n",
       "1     4898 2017-01-01  43.42639  -88.70306      285.3          -12        -13   \n",
       "2    94940 2017-01-01  43.96667  -90.73333      252.7          -11        -14   \n",
       "3    94854 2017-01-01  42.61667  -89.03333      246.3           -9        -10   \n",
       "4     4895 2017-01-01  44.55000  -89.53333      338.3          -12        -14   \n",
       "\n",
       "   Relative Humidity HourlyStationPressure  Wind Direction  Wind Speed  \\\n",
       "0              79.65                 28.17           232.1         3.9   \n",
       "1              90.69                 28.93           234.9         2.3   \n",
       "2              76.42                 29.00           219.6         4.2   \n",
       "3              98.56                 29.09           251.0         1.5   \n",
       "4              79.90                 28.67           234.6         3.3   \n",
       "\n",
       "  HourlyVisibility weather_type cloud_type  cloud_cover  DHI  DNI  GHI  \n",
       "0            10.00         None     cloudy          1.0    0    0    0  \n",
       "1            10.00         None      clear          0.0    0    0    0  \n",
       "2            10.00         None      clear          0.0    0    0    0  \n",
       "3            10.00         None      clear          0.0    0    0    0  \n",
       "4            10.00         None     cloudy          1.0    0    0    0  "
      ]
     },
     "execution_count": 91,
     "metadata": {},
     "output_type": "execute_result"
    }
   ],
   "source": [
    "df_merge_asof = df_merge_asof[['STATION', 'DATE', 'latitude', 'longitude', 'elevation',\n",
    "                               'Temperature', 'Dew Point', 'Relative Humidity', 'HourlyStationPressure',\n",
    "                               'Wind Direction', 'Wind Speed', 'HourlyVisibility', 'weather_type',\n",
    "                               'cloud_type', 'cloud_cover', 'DHI', 'DNI', 'GHI'\n",
    "                              ]]\n",
    "df_merge_asof.head()"
   ]
  },
  {
   "cell_type": "code",
   "execution_count": 92,
   "metadata": {},
   "outputs": [],
   "source": [
    "df_merge_asof.to_csv(\"out.csv\",index=False)\n"
   ]
  }
 ],
 "metadata": {
  "kernelspec": {
   "display_name": "Python 3",
   "language": "python",
   "name": "python3"
  },
  "language_info": {
   "codemirror_mode": {
    "name": "ipython",
    "version": 3
   },
   "file_extension": ".py",
   "mimetype": "text/x-python",
   "name": "python",
   "nbconvert_exporter": "python",
   "pygments_lexer": "ipython3",
   "version": "3.7.3"
  }
 },
 "nbformat": 4,
 "nbformat_minor": 4
}
