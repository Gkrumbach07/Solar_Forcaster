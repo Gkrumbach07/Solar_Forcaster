{
 "cells": [
  {
   "cell_type": "code",
   "execution_count": 396,
   "metadata": {},
   "outputs": [],
   "source": [
    "import numpy as np\n",
    "import pandas as pd\n",
    "\n",
    "df = pd.read_parquet(\"solar_cleaned.parquet\")"
   ]
  },
  {
   "cell_type": "code",
   "execution_count": 397,
   "metadata": {},
   "outputs": [
    {
     "name": "stdout",
     "output_type": "stream",
     "text": [
      "Training shape: (5360, 39)\n",
      "Testing shape: (36267, 39)\n"
     ]
    }
   ],
   "source": [
    "middle = int(len(df) * 0.7)\n",
    "\n",
    "train = df.loc[:middle].copy()\n",
    "test = df.loc[middle:]\n",
    "print(\"Training shape: \" + str(train.shape))\n",
    "print(\"Testing shape: \" + str(test.shape))"
   ]
  },
  {
   "cell_type": "code",
   "execution_count": 398,
   "metadata": {},
   "outputs": [],
   "source": [
    "import cloudpickle as cp\n",
    "feature_pipeline = cp.load(open('feature_pipeline.sav', 'rb'))"
   ]
  },
  {
   "cell_type": "code",
   "execution_count": 399,
   "metadata": {},
   "outputs": [
    {
     "data": {
      "text/plain": [
       "RandomForestRegressor(max_depth=8, n_estimators=50)"
      ]
     },
     "execution_count": 399,
     "metadata": {},
     "output_type": "execute_result"
    }
   ],
   "source": [
    "from sklearn.ensemble import RandomForestRegressor\n",
    "from sklearn import model_selection\n",
    "\n",
    "rfc = RandomForestRegressor(n_estimators=50, max_depth=8)\n",
    "\n",
    "svecs = feature_pipeline.fit_transform(train)\n",
    "\n",
    "rfc.fit(svecs, train[['ghi_efficiency', 'dni_efficiency']])"
   ]
  },
  {
   "cell_type": "code",
   "execution_count": 400,
   "metadata": {},
   "outputs": [
    {
     "data": {
      "text/plain": [
       "array([[1.00998243, 0.95450768],\n",
       "       [1.00959982, 0.98312952]])"
      ]
     },
     "execution_count": 400,
     "metadata": {},
     "output_type": "execute_result"
    }
   ],
   "source": [
    "from sklearn.neural_network import MLPRegressor\n",
    "\n",
    "regr = MLPRegressor(random_state=1, max_iter=500).fit(svecs, train[['ghi_efficiency', 'dni_efficiency']])\n",
    "regr.predict(feature_pipeline.fit_transform(test)[:2])"
   ]
  },
  {
   "cell_type": "code",
   "execution_count": 401,
   "metadata": {},
   "outputs": [
    {
     "data": {
      "text/plain": [
       "0.5115056437887135"
      ]
     },
     "execution_count": 401,
     "metadata": {},
     "output_type": "execute_result"
    }
   ],
   "source": [
    "regr.score(feature_pipeline.fit_transform(test), test[['ghi_efficiency', 'dni_efficiency']].values)"
   ]
  },
  {
   "cell_type": "code",
   "execution_count": 402,
   "metadata": {},
   "outputs": [
    {
     "name": "stdout",
     "output_type": "stream",
     "text": [
      "0.6024780864447157\n"
     ]
    }
   ],
   "source": [
    "from sklearn.metrics import r2_score\n",
    "\n",
    "predictions = rfc.predict(feature_pipeline.fit_transform(test))\n",
    "\n",
    "print(r2_score(test[['ghi_efficiency', 'dni_efficiency']].values, predictions))"
   ]
  },
  {
   "cell_type": "code",
   "execution_count": 403,
   "metadata": {},
   "outputs": [
    {
     "data": {
      "text/plain": [
       "[(7, 0.754169715574614),\n",
       " (2, 0.09643603670668147),\n",
       " (3, 0.039330220460096064),\n",
       " (4, 0.02322511079640592),\n",
       " (0, 0.016598114951795837)]"
      ]
     },
     "execution_count": 403,
     "metadata": {},
     "output_type": "execute_result"
    }
   ],
   "source": [
    "l = list(enumerate(rfc.feature_importances_))\n",
    "l.sort(key=lambda x: -x[1])\n",
    "l[:5]"
   ]
  },
  {
   "cell_type": "code",
   "execution_count": 404,
   "metadata": {
    "scrolled": false
   },
   "outputs": [
    {
     "data": {
      "text/html": [
       "\n",
       "<div id=\"altair-viz-05cdb6a6420948d5b726b31667b6dab3\"></div>\n",
       "<script type=\"text/javascript\">\n",
       "  (function(spec, embedOpt){\n",
       "    let outputDiv = document.currentScript.previousElementSibling;\n",
       "    if (outputDiv.id !== \"altair-viz-05cdb6a6420948d5b726b31667b6dab3\") {\n",
       "      outputDiv = document.getElementById(\"altair-viz-05cdb6a6420948d5b726b31667b6dab3\");\n",
       "    }\n",
       "    const paths = {\n",
       "      \"vega\": \"https://cdn.jsdelivr.net/npm//vega@5?noext\",\n",
       "      \"vega-lib\": \"https://cdn.jsdelivr.net/npm//vega-lib?noext\",\n",
       "      \"vega-lite\": \"https://cdn.jsdelivr.net/npm//vega-lite@4.8.1?noext\",\n",
       "      \"vega-embed\": \"https://cdn.jsdelivr.net/npm//vega-embed@6?noext\",\n",
       "    };\n",
       "\n",
       "    function loadScript(lib) {\n",
       "      return new Promise(function(resolve, reject) {\n",
       "        var s = document.createElement('script');\n",
       "        s.src = paths[lib];\n",
       "        s.async = true;\n",
       "        s.onload = () => resolve(paths[lib]);\n",
       "        s.onerror = () => reject(`Error loading script: ${paths[lib]}`);\n",
       "        document.getElementsByTagName(\"head\")[0].appendChild(s);\n",
       "      });\n",
       "    }\n",
       "\n",
       "    function showError(err) {\n",
       "      outputDiv.innerHTML = `<div class=\"error\" style=\"color:red;\">${err}</div>`;\n",
       "      throw err;\n",
       "    }\n",
       "\n",
       "    function displayChart(vegaEmbed) {\n",
       "      vegaEmbed(outputDiv, spec, embedOpt)\n",
       "        .catch(err => showError(`Javascript Error: ${err.message}<br>This usually means there's a typo in your chart specification. See the javascript console for the full traceback.`));\n",
       "    }\n",
       "\n",
       "    if(typeof define === \"function\" && define.amd) {\n",
       "      requirejs.config({paths});\n",
       "      require([\"vega-embed\"], displayChart, err => showError(`Error loading script: ${err.message}`));\n",
       "    } else if (typeof vegaEmbed === \"function\") {\n",
       "      displayChart(vegaEmbed);\n",
       "    } else {\n",
       "      loadScript(\"vega\")\n",
       "        .then(() => loadScript(\"vega-lite\"))\n",
       "        .then(() => loadScript(\"vega-embed\"))\n",
       "        .catch(showError)\n",
       "        .then(() => displayChart(vegaEmbed));\n",
       "    }\n",
       "  })({\"config\": {\"view\": {\"continuousWidth\": 400, \"continuousHeight\": 300}}, \"layer\": [{\"mark\": \"bar\", \"encoding\": {\"x\": {\"type\": \"quantitative\", \"field\": \"Importance\"}, \"y\": {\"type\": \"nominal\", \"field\": \"Variable\"}}}, {\"mark\": {\"type\": \"text\", \"align\": \"left\", \"baseline\": \"middle\", \"dx\": 3}, \"encoding\": {\"text\": {\"type\": \"quantitative\", \"field\": \"Importance\"}, \"x\": {\"type\": \"quantitative\", \"field\": \"Importance\"}, \"y\": {\"type\": \"nominal\", \"field\": \"Variable\"}}}], \"data\": {\"name\": \"data-69de75be56e9a68230a660fa07e6e284\"}, \"$schema\": \"https://vega.github.io/schema/vega-lite/v4.8.1.json\", \"datasets\": {\"data-69de75be56e9a68230a660fa07e6e284\": [{\"Variable\": \"temperature\", \"Importance\": 0.016598114951795837}, {\"Variable\": \"dew_point\", \"Importance\": 0.011701899025929956}, {\"Variable\": \"relative_humidity\", \"Importance\": 0.09643603670668147}, {\"Variable\": \"hourly_precipitation\", \"Importance\": 0.039330220460096064}, {\"Variable\": \"station_pressure\", \"Importance\": 0.02322511079640592}, {\"Variable\": \"wind_speed\", \"Importance\": 0.011913936853694683}, {\"Variable\": \"hourly_visibility\", \"Importance\": 0.008711572094344233}, {\"Variable\": \"cloud_cover\", \"Importance\": 0.754169715574614}, {\"Variable\": \"mostly_cloudy\", \"Importance\": 0.006282394388038614}, {\"Variable\": \"mostly_clear\", \"Importance\": 0.0013539527504207618}, {\"Variable\": \"clear\", \"Importance\": 0.003175042234597302}, {\"Variable\": \"cloudy\", \"Importance\": 0.005901856089189047}, {\"Variable\": \"partly_cloudy\", \"Importance\": 0.002470204402855528}, {\"Variable\": \"overcast\", \"Importance\": 0.00012292687301429959}, {\"Variable\": \"rain_light\", \"Importance\": 0.007727427633556638}, {\"Variable\": \"tstorm\", \"Importance\": 0.005348502908722458}, {\"Variable\": \"drizzle\", \"Importance\": 0.0012046404246220793}, {\"Variable\": \"rain_heavy\", \"Importance\": 0.00015950647233723485}, {\"Variable\": \"rain\", \"Importance\": 0.0031310541286716565}, {\"Variable\": \"fog\", \"Importance\": 0.0006633914583179214}, {\"Variable\": \"snow_light\", \"Importance\": 0.00034796924233314097}, {\"Variable\": \"snow\", \"Importance\": 1.4741116061380157e-05}, {\"Variable\": \"snow_heavy\", \"Importance\": 9.78341369955952e-06}, {\"Variable\": \"freezing_rain\", \"Importance\": 0.0}, {\"Variable\": \"ice_pellets\", \"Importance\": 0.0}, {\"Variable\": \"ice_pellets_light\", \"Importance\": 0.0}, {\"Variable\": \"freezing_drizzle\", \"Importance\": 0.0}, {\"Variable\": \"ice_pellets_heavy\", \"Importance\": 0.0}, {\"Variable\": \"flurries\", \"Importance\": 0.0}, {\"Variable\": \"freezing_rain_heavy\", \"Importance\": 0.0}, {\"Variable\": \"freezing_rain_light\", \"Importance\": 0.0}, {\"Variable\": \"fog_light\", \"Importance\": 0.0}]}}, {\"mode\": \"vega-lite\"});\n",
       "</script>"
      ],
      "text/plain": [
       "alt.LayerChart(...)"
      ]
     },
     "execution_count": 404,
     "metadata": {},
     "output_type": "execute_result"
    }
   ],
   "source": [
    "import altair as alt\n",
    "\n",
    "source = pd.DataFrame({\n",
    "    'Variable': list(df.drop(columns=['dni_efficiency', 'ghi_efficiency', 'dhi_efficiency', 'STATION','DATE',\n",
    "                                            'latitude','longitude'])),\n",
    "    'Importance': (list(rfc.feature_importances_))\n",
    "})\n",
    "\n",
    "bars = alt.Chart(source).mark_bar().encode(\n",
    "    y='Variable:N',\n",
    "    x=\"Importance:Q\"\n",
    ")\n",
    "\n",
    "text = bars.mark_text(\n",
    "    align='left',\n",
    "    baseline='middle',\n",
    "    dx=3  # Nudges text to right so it doesn't appear on top of the bar\n",
    ").encode(\n",
    "    text='Importance:Q'\n",
    ")\n",
    "\n",
    "(bars + text)"
   ]
  },
  {
   "cell_type": "code",
   "execution_count": 405,
   "metadata": {},
   "outputs": [],
   "source": [
    "from mlworkflows import util\n",
    "util.serialize_to(rfc, \"rfc.sav\")"
   ]
  }
 ],
 "metadata": {
  "kernelspec": {
   "display_name": "Python 3",
   "language": "python",
   "name": "python3"
  },
  "language_info": {
   "codemirror_mode": {
    "name": "ipython",
    "version": 3
   },
   "file_extension": ".py",
   "mimetype": "text/x-python",
   "name": "python",
   "nbconvert_exporter": "python",
   "pygments_lexer": "ipython3",
   "version": "3.7.3"
  }
 },
 "nbformat": 4,
 "nbformat_minor": 4
}
