{
 "cells": [
  {
   "cell_type": "code",
   "execution_count": 1,
   "metadata": {},
   "outputs": [],
   "source": [
    "import pandas as pd\n",
    "import csv\n",
    "import numpy as np\n",
    "import os\n"
   ]
  },
  {
   "cell_type": "code",
   "execution_count": 2,
   "metadata": {},
   "outputs": [
    {
     "name": "stderr",
     "output_type": "stream",
     "text": [
      "/Users/gagekrumbach/.local/share/virtualenvs/Solar_Forcaster-m3btlaz4/lib/python3.7/site-packages/tqdm/std.py:668: FutureWarning: The Panel class is removed from pandas. Accessing it from the top-level namespace will also be removed in the next version\n",
      "  from pandas import Panel\n"
     ]
    }
   ],
   "source": [
    "from tqdm import tqdm\n",
    "tqdm.pandas(desc=\"Progress:\")"
   ]
  },
  {
   "cell_type": "markdown",
   "metadata": {},
   "source": [
    "Create the lambda function that cleans up floating point data.\n",
    "\n",
    "`29.37s` => `29.37`"
   ]
  },
  {
   "cell_type": "code",
   "execution_count": 3,
   "metadata": {},
   "outputs": [
    {
     "data": {
      "text/plain": [
       "(1265787, 7)"
      ]
     },
     "execution_count": 3,
     "metadata": {},
     "output_type": "execute_result"
    }
   ],
   "source": [
    "import glob\n",
    "\n",
    "data_path = 'LCD_Data/WI/data/*.csv'\n",
    "clean_float = lambda x: ''.join(filter(str.isdigit or x == '.', x))\n",
    "\n",
    "raw_data = pd.concat([pd.read_csv(file_path,\n",
    "                            usecols=['STATION', 'DATE', 'HourlySkyConditions', 'HourlyStationPressure',\n",
    "                                'HourlyVisibility', 'HourlyPresentWeatherType', 'HourlyPrecipitation'],\n",
    "                            parse_dates=['DATE'],\n",
    "                            dtype={'HourlySkyConditions': str, 'HourlyPresentWeatherType': str},\n",
    "                            converters={'HourlyStationPressure': clean_float, 'HourlyVisibility': clean_float,\n",
    "                                        'HourlyPrecipitation': clean_float})\n",
    "                         for file_path in glob.iglob(data_path)])\n",
    "raw_data.shape"
   ]
  },
  {
   "cell_type": "markdown",
   "metadata": {},
   "source": [
    "Sample data for faster development"
   ]
  },
  {
   "cell_type": "code",
   "execution_count": 4,
   "metadata": {},
   "outputs": [
    {
     "data": {
      "text/html": [
       "<div>\n",
       "<style scoped>\n",
       "    .dataframe tbody tr th:only-of-type {\n",
       "        vertical-align: middle;\n",
       "    }\n",
       "\n",
       "    .dataframe tbody tr th {\n",
       "        vertical-align: top;\n",
       "    }\n",
       "\n",
       "    .dataframe thead th {\n",
       "        text-align: right;\n",
       "    }\n",
       "</style>\n",
       "<table border=\"1\" class=\"dataframe\">\n",
       "  <thead>\n",
       "    <tr style=\"text-align: right;\">\n",
       "      <th></th>\n",
       "      <th>STATION</th>\n",
       "      <th>DATE</th>\n",
       "      <th>HourlyPrecipitation</th>\n",
       "      <th>HourlyPresentWeatherType</th>\n",
       "      <th>HourlySkyConditions</th>\n",
       "      <th>HourlyStationPressure</th>\n",
       "      <th>HourlyVisibility</th>\n",
       "    </tr>\n",
       "  </thead>\n",
       "  <tbody>\n",
       "    <tr>\n",
       "      <th>0</th>\n",
       "      <td>72640594869</td>\n",
       "      <td>2010-01-01 00:15:00</td>\n",
       "      <td></td>\n",
       "      <td>NaN</td>\n",
       "      <td>NaN</td>\n",
       "      <td>2937</td>\n",
       "      <td>1000</td>\n",
       "    </tr>\n",
       "    <tr>\n",
       "      <th>1</th>\n",
       "      <td>72640594869</td>\n",
       "      <td>2010-01-01 00:35:00</td>\n",
       "      <td></td>\n",
       "      <td>NaN</td>\n",
       "      <td>NaN</td>\n",
       "      <td>2937</td>\n",
       "      <td>1000</td>\n",
       "    </tr>\n",
       "    <tr>\n",
       "      <th>2</th>\n",
       "      <td>72640594869</td>\n",
       "      <td>2010-01-01 00:55:00</td>\n",
       "      <td></td>\n",
       "      <td>NaN</td>\n",
       "      <td>NaN</td>\n",
       "      <td>2938</td>\n",
       "      <td>1000</td>\n",
       "    </tr>\n",
       "    <tr>\n",
       "      <th>3</th>\n",
       "      <td>72640594869</td>\n",
       "      <td>2010-01-01 01:15:00</td>\n",
       "      <td></td>\n",
       "      <td>NaN</td>\n",
       "      <td>NaN</td>\n",
       "      <td>2938</td>\n",
       "      <td>1000</td>\n",
       "    </tr>\n",
       "    <tr>\n",
       "      <th>4</th>\n",
       "      <td>72640594869</td>\n",
       "      <td>2010-01-01 01:36:00</td>\n",
       "      <td></td>\n",
       "      <td>NaN</td>\n",
       "      <td>NaN</td>\n",
       "      <td>2938</td>\n",
       "      <td>1000</td>\n",
       "    </tr>\n",
       "  </tbody>\n",
       "</table>\n",
       "</div>"
      ],
      "text/plain": [
       "       STATION                DATE HourlyPrecipitation  \\\n",
       "0  72640594869 2010-01-01 00:15:00                       \n",
       "1  72640594869 2010-01-01 00:35:00                       \n",
       "2  72640594869 2010-01-01 00:55:00                       \n",
       "3  72640594869 2010-01-01 01:15:00                       \n",
       "4  72640594869 2010-01-01 01:36:00                       \n",
       "\n",
       "  HourlyPresentWeatherType HourlySkyConditions HourlyStationPressure  \\\n",
       "0                      NaN                 NaN                  2937   \n",
       "1                      NaN                 NaN                  2937   \n",
       "2                      NaN                 NaN                  2938   \n",
       "3                      NaN                 NaN                  2938   \n",
       "4                      NaN                 NaN                  2938   \n",
       "\n",
       "  HourlyVisibility  \n",
       "0             1000  \n",
       "1             1000  \n",
       "2             1000  \n",
       "3             1000  \n",
       "4             1000  "
      ]
     },
     "execution_count": 4,
     "metadata": {},
     "output_type": "execute_result"
    }
   ],
   "source": [
    "w_data = raw_data\n",
    "#w_data = w_data.sample(n=10000)\n",
    "w_data.head()"
   ]
  },
  {
   "cell_type": "markdown",
   "metadata": {},
   "source": [
    "Convert station ID to shorter form"
   ]
  },
  {
   "cell_type": "code",
   "execution_count": 5,
   "metadata": {},
   "outputs": [
    {
     "data": {
      "text/plain": [
       "0    94869\n",
       "1    94869\n",
       "2    94869\n",
       "3    94869\n",
       "4    94869\n",
       "Name: STATION, dtype: int64"
      ]
     },
     "execution_count": 5,
     "metadata": {},
     "output_type": "execute_result"
    }
   ],
   "source": [
    "w_data['STATION'] = w_data['STATION'].map(lambda x: int(str(x)[-5:]))\n",
    "w_data['STATION'].head()"
   ]
  },
  {
   "cell_type": "markdown",
   "metadata": {},
   "source": [
    "Convert weather codes to a more less specific form that can be used by the forcast api later. Codes are in the format `AU | AW | MW`. They need to be catagroized into `freezing_rain_heavy, freezing_rain, freezing_rain_light, freezing_drizzle, ice_pellets_heavy, ice_pellets, ice_pellets_light, snow_heavy, snow, snow_light, flurries, tstorm, rain_heavy, rain, rain_light, drizzle, fog_light, fog, cloudy, mostly_cloudy, partly_cloudy, mostly_clear, clear`."
   ]
  },
  {
   "cell_type": "code",
   "execution_count": 6,
   "metadata": {},
   "outputs": [
    {
     "name": "stderr",
     "output_type": "stream",
     "text": [
      "Progress:: 100%|██████████| 1265787/1265787 [00:31<00:00, 39686.25it/s]\n"
     ]
    }
   ],
   "source": [
    "import json\n",
    "with open('weather_lookup_converter.json') as json_file:\n",
    "    lookup = json.load(json_file)\n",
    "\n",
    "def weather_decoder(value):\n",
    "    if pd.notnull(value):\n",
    "        for weather_type in lookup:\n",
    "            for code in lookup[weather_type]:\n",
    "                if code in value:\n",
    "                    return weather_type\n",
    "\n",
    "w_data['weather_type'] = w_data.progress_apply(lambda row: weather_decoder(row.HourlyPresentWeatherType), axis=1)"
   ]
  },
  {
   "cell_type": "markdown",
   "metadata": {},
   "source": [
    "Breaking up hourly sky conditions column to a cloud string, cloud base height, and cloud cover using another lookup table"
   ]
  },
  {
   "cell_type": "code",
   "execution_count": 7,
   "metadata": {},
   "outputs": [
    {
     "name": "stderr",
     "output_type": "stream",
     "text": [
      "Progress:: 100%|██████████| 1265787/1265787 [00:30<00:00, 42165.39it/s]\n",
      "Progress:: 100%|██████████| 1265787/1265787 [00:29<00:00, 42306.91it/s]\n"
     ]
    }
   ],
   "source": [
    "with open('cloud_lookup.json') as json_file:\n",
    "    lookup = json.load(json_file)\n",
    "\n",
    "def cloud_decoder(value):\n",
    "    if pd.notnull(value):\n",
    "        for cloud_type in lookup:\n",
    "            if cloud_type in value:\n",
    "                return lookup[cloud_type]\n",
    "    return lookup[\"CLR\"]\n",
    "            \n",
    "w_data['cloud_type'] = w_data.progress_apply(lambda row: cloud_decoder(row.HourlySkyConditions)[\"cloud_str\"], axis=1)\n",
    "w_data['cloud_cover'] = w_data.progress_apply(lambda row: cloud_decoder(row.HourlySkyConditions)[\"cloud_cover\"], axis=1)"
   ]
  },
  {
   "cell_type": "markdown",
   "metadata": {},
   "source": [
    "Combine station data (lat, long, elevation) with historic weather data."
   ]
  },
  {
   "cell_type": "code",
   "execution_count": null,
   "metadata": {},
   "outputs": [
    {
     "name": "stderr",
     "output_type": "stream",
     "text": [
      "Progress::  59%|█████▊    | 740834/1265787 [00:50<00:32, 16139.21it/s]"
     ]
    }
   ],
   "source": [
    "station_meta_lookup = pd.read_csv('LCD_Data/WI/stations.csv',\n",
    "                                usecols=[\"STATION_ID\", \"STATION\", \"LATITUDE\", \"LONGITUDE\", \"ELEVATION_(M)\"],\n",
    "                               dtype={\"LATITUDE\": float, \"LONGITUDE\": float})\n",
    "\n",
    "def get_matching_row(value):\n",
    "    for i, row in enumerate(station_meta_lookup[\"STATION_ID\"]):\n",
    "        if int(row[5:]) == value:\n",
    "            return i\n",
    "\n",
    "w_data[\"latitude\"] = w_data.progress_apply(lambda row:\n",
    "                                      station_meta_lookup[\"LATITUDE\"][get_matching_row(row.STATION)], axis=1)\n",
    "w_data[\"longitude\"] = w_data.progress_apply(lambda row:\n",
    "                                      station_meta_lookup[\"LONGITUDE\"][get_matching_row(row.STATION)], axis=1)\n",
    "w_data[\"elevation\"] = w_data.progress_apply(lambda row:\n",
    "                                      station_meta_lookup[\"ELEVATION_(M)\"][get_matching_row(row.STATION)], axis=1)\n",
    "w_data.head()"
   ]
  },
  {
   "cell_type": "markdown",
   "metadata": {},
   "source": [
    "Use altair to visulize where the statations are. Each stattion has an average of about 10 mi for range. We will need to use spatial interpolation to fill the data."
   ]
  },
  {
   "cell_type": "code",
   "execution_count": null,
   "metadata": {
    "scrolled": true
   },
   "outputs": [],
   "source": [
    "import altair as alt\n",
    "\n",
    "state = alt.topo_feature('LCD_Data/WI/WI.geo.json', 'collection')\n",
    "\n",
    "# US states background\n",
    "background = alt.Chart(state).mark_geoshape(\n",
    "    fill='lightgray',\n",
    "    stroke='white'\n",
    ").project('albersUsa')\n",
    "\n",
    "# airport positions on background\n",
    "points = alt.Chart(station_meta_lookup).mark_circle(\n",
    "    size=50,\n",
    "    color='red'\n",
    ").encode(\n",
    "    longitude='LONGITUDE:Q',\n",
    "    latitude='LATITUDE:Q',\n",
    "    tooltip=['STATION:N'])\n",
    "\n",
    "background + points"
   ]
  },
  {
   "cell_type": "markdown",
   "metadata": {},
   "source": [
    "Load the NREL api to get solar data for each point."
   ]
  },
  {
   "cell_type": "code",
   "execution_count": null,
   "metadata": {},
   "outputs": [],
   "source": [
    "def create_url(lat, lon, year, api_key, attributes, your_name, reason_for_use, your_affiliation, your_email):\n",
    "    return 'http://developer.nrel.gov/api/solar/nsrdb_psm3_download.csv?wkt=POINT({lon}%20{lat})&names={year}&leap_day=false&interval=60&utc=false&full_name={name}&email={email}&affiliation={affiliation}&mailing_list=false&reason={reason}&api_key={api}&attributes={attributes}'\\\n",
    "    .format(year=year, lat=lat, lon=lon,\n",
    "        name=your_name, email=your_email,\n",
    "        affiliation=your_affiliation,\n",
    "        reason=reason_for_use, api=api_key,\n",
    "        attributes=attributes)\n",
    "\n",
    "import time  \n",
    "data_year = '2010'\n",
    "for step, point in tqdm(enumerate(station_meta_lookup.iterrows())):    \n",
    "    url = create_url(lat=str(point[1][2]),\n",
    "                     lon=str(point[1][3]),\n",
    "                     api_key=os.getenv('MY_VAR'),\n",
    "                     attributes=\"air_temperature,dew_point,dhi,dni,ghi,relative_humidity,wind_direction,wind_speed\",\n",
    "                     year=data_year,\n",
    "                     your_name='Gage+Krumbach',\n",
    "                     reason_for_use='demo',\n",
    "                     your_affiliation='my+institution',\n",
    "                     your_email='gkrumbac@redhat.com')\n",
    "    output = pd.read_csv(url, skiprows=2)\n",
    "    output[\"STATION\"] = int(point[1][0][5:])\n",
    "    output[\"DATE\"] =pd.date_range('1/1/{yr}'.format(yr=data_year),\n",
    "                                                    freq='60'+'Min',\n",
    "                                                    periods=525600/60)\n",
    "    \n",
    "    if step==0:\n",
    "        solar_data = output\n",
    "    else:\n",
    "        solar_data = solar_data.append(output)\n",
    "    \n",
    "    time.sleep(3)"
   ]
  },
  {
   "cell_type": "code",
   "execution_count": null,
   "metadata": {},
   "outputs": [],
   "source": [
    "df_merge_asof = pd.merge_asof(solar_data.sort_values(by=['DATE']), w_data.sort_values(by=['DATE']),\n",
    "              on='DATE',\n",
    "              by='STATION',\n",
    "             direction='nearest')"
   ]
  },
  {
   "cell_type": "code",
   "execution_count": null,
   "metadata": {},
   "outputs": [],
   "source": [
    "is_station = df_merge_asof['STATION']==94929\n",
    "df_merge_asof[is_station].loc[(df_merge_asof[is_station]['DATE'] > '01-01-2010') & (df_merge_asof[is_station]['DATE'] < '01-2-2010')]"
   ]
  },
  {
   "cell_type": "code",
   "execution_count": null,
   "metadata": {},
   "outputs": [],
   "source": [
    "df_merge_asof = df_merge_asof[['STATION', 'DATE', 'latitude', 'longitude', 'elevation',\n",
    "                               'Temperature', 'Dew Point', 'Relative Humidity', 'HourlyStationPressure',\n",
    "                               'Wind Direction', 'Wind Speed', 'HourlyVisibility', 'weather_type',\n",
    "                               'cloud_type', 'cloud_cover', 'DHI', 'DNI', 'GHI'\n",
    "                              ]]\n",
    "df_merge_asof.head()"
   ]
  }
 ],
 "metadata": {
  "kernelspec": {
   "display_name": "Python 3",
   "language": "python",
   "name": "python3"
  },
  "language_info": {
   "codemirror_mode": {
    "name": "ipython",
    "version": 3
   },
   "file_extension": ".py",
   "mimetype": "text/x-python",
   "name": "python",
   "nbconvert_exporter": "python",
   "pygments_lexer": "ipython3",
   "version": "3.7.3"
  }
 },
 "nbformat": 4,
 "nbformat_minor": 4
}
